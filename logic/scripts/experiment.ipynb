{
 "cells": [
  {
   "cell_type": "code",
   "execution_count": null,
   "id": "a07eca79",
   "metadata": {},
   "outputs": [],
   "source": [
    "\n",
    "from helpers.model.util import select_device\n",
    "from helpers.experiment import Experiment\n",
    "from helpers.data.dset.config import Config_Dataset\n",
    "from helpers.data.dset.constants import (\n",
    "    Names_Datasets,\n",
    "    Names_Levels,\n",
    "    Names_q_Squared_Vetos,\n",
    "    Names_Splits\n",
    ")\n",
    "from helpers.model.config import Config_Model\n",
    "from helpers.model.constants import Names_Models"
   ]
  },
  {
   "cell_type": "code",
   "execution_count": null,
   "id": "f4878958",
   "metadata": {},
   "outputs": [],
   "source": [
    "config_dset_"
   ]
  },
  {
   "cell_type": "code",
   "execution_count": null,
   "id": "ab49ce94",
   "metadata": {},
   "outputs": [],
   "source": [
    "path_dir_plots = \"../../state/new_physics/plots\"\n",
    "\n",
    "device = select_device()\n",
    "\n",
    "experiment = Experiment(\n",
    "    path_dir_plots=path_dir_plots,\n",
    "    device=device,\n",
    ")"
   ]
  },
  {
   "cell_type": "code",
   "execution_count": null,
   "id": "23aa3b16",
   "metadata": {},
   "outputs": [],
   "source": [
    "\n",
    "\n"
   ]
  },
  {
   "cell_type": "code",
   "execution_count": null,
   "id": "7abfdfe5",
   "metadata": {},
   "outputs": [],
   "source": []
  }
 ],
 "metadata": {
  "kernelspec": {
   "display_name": "maybe_ml",
   "language": "python",
   "name": "python3"
  },
  "language_info": {
   "codemirror_mode": {
    "name": "ipython",
    "version": 3
   },
   "file_extension": ".py",
   "mimetype": "text/x-python",
   "name": "python",
   "nbconvert_exporter": "python",
   "pygments_lexer": "ipython3",
   "version": "3.12.5"
  }
 },
 "nbformat": 4,
 "nbformat_minor": 5
}

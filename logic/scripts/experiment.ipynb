{
 "cells": [
  {
   "cell_type": "code",
   "execution_count": null,
   "metadata": {},
   "outputs": [],
   "source": [
    "from torch.nn import MSELoss\n",
    "\n",
    "from helpers.datasets.make_and_save.aggregated_signal import Aggregated_Signal_Dataframe_Handler\n",
    "from helpers.datasets.constants import Names_of_Levels, Names_of_q_Squared_Vetos, Raw_Signal_Trial_Ranges\n",
    "from helpers.experiment.experiment import CNN_Group, Deep_Sets_Group, Event_by_Event_Group\n",
    "from helpers.experiment.results_table import Results_Table\n",
    "from helpers.experiment.constants import Paths_to_Directories\n",
    "from helpers.models.hardware_util import select_device"
   ]
  },
  {
   "cell_type": "code",
   "execution_count": null,
   "metadata": {},
   "outputs": [],
   "source": [
    "for  level in (Names_of_Levels().generator, Names_of_Levels().detector):\n",
    "    for trial_range in Raw_Signal_Trial_Ranges().tuple_:\n",
    "        \n",
    "        Aggregated_Signal_Dataframe_Handler(\n",
    "            path_to_main_datasets_dir=Paths_to_Directories().path_to_main_datasets_dir,\n",
    "            level=level,\n",
    "            trial_range=trial_range\n",
    "        ).make_and_save(Paths_to_Directories().path_to_raw_signal_dir)"
   ]
  },
  {
   "cell_type": "code",
   "execution_count": null,
   "metadata": {},
   "outputs": [],
   "source": [
    "results_table = Results_Table()\n",
    "device = select_device()"
   ]
  },
  {
   "cell_type": "code",
   "execution_count": null,
   "metadata": {},
   "outputs": [],
   "source": [
    "deep_sets_group = Deep_Sets_Group(\n",
    "    num_sets_per_label=50,\n",
    "    num_sets_per_label_sensitivity=2_000,\n",
    "    q_squared_veto=Names_of_q_Squared_Vetos().loose,\n",
    "    std_scale=True,\n",
    "    shuffle=True,\n",
    "    loss_fn=MSELoss(),\n",
    "    learning_rate=3e-4,\n",
    "    learning_rate_scheduler_reduction_factor=0.9,\n",
    "    size_of_training_batch=32,\n",
    "    size_of_evaluation_batch=32,\n",
    "    number_of_epochs=100,\n",
    "    number_of_epochs_between_checkpoints=5,\n",
    "    results_table=results_table,\n",
    "    device=device,\n",
    "    bkg_fraction=0.5,\n",
    "    bkg_charge_fraction=0.5\n",
    ")\n",
    "\n",
    "deep_sets_group.train_all(remake_datasets=True)\n",
    "deep_sets_group.evaluate_all(remake_datasets=True)\n"
   ]
  },
  {
   "cell_type": "code",
   "execution_count": null,
   "metadata": {},
   "outputs": [],
   "source": [
    "cnn_group = CNN_Group(\n",
    "    num_sets_per_label=50,\n",
    "    num_sets_per_label_sensitivity=2_000,\n",
    "    num_bins_per_dimension=10,\n",
    "    q_squared_veto=Names_of_q_Squared_Vetos().loose,\n",
    "    std_scale=True,\n",
    "    shuffle=True,\n",
    "    loss_fn=MSELoss(),\n",
    "    learning_rate=3e-4,\n",
    "    learning_rate_scheduler_reduction_factor=0.9,\n",
    "    size_of_training_batch=32,\n",
    "    size_of_evaluation_batch=32,\n",
    "    number_of_epochs=100,\n",
    "    number_of_epochs_between_checkpoints=5,\n",
    "    results_table=results_table,\n",
    "    device=device,\n",
    "    bkg_fraction=0.5,\n",
    "    bkg_charge_fraction=0.5\n",
    ")\n",
    "\n",
    "cnn_group.train_all(remake_datasets=True)\n",
    "cnn_group.evaluate_all(remake_datasets=True)\n",
    "cnn_group.plot_image_examples_all(remake_datasets=False)"
   ]
  },
  {
   "cell_type": "code",
   "execution_count": null,
   "metadata": {},
   "outputs": [],
   "source": [
    "event_by_event_group = Event_by_Event_Group(\n",
    "    num_evaluation_sets_per_label=50,\n",
    "    num_evaluation_sets_per_label_sensitivity=2_000,\n",
    "    q_squared_veto=Names_of_q_Squared_Vetos().loose,\n",
    "    std_scale=True,\n",
    "    shuffle=True,\n",
    "    loss_fn=MSELoss(),\n",
    "    learning_rate=3e-4,\n",
    "    learning_rate_scheduler_reduction_factor=0.95,\n",
    "    size_of_training_batch=10_000,\n",
    "    size_of_evaluation_batch=10_000,\n",
    "    number_of_epochs=300,\n",
    "    number_of_epochs_between_checkpoints=5,\n",
    "    results_table=results_table,\n",
    "    device=device\n",
    ")\n",
    "\n",
    "event_by_event_group.train_all(remake_datasets=True)\n",
    "event_by_event_group.evaluate_all(remake_datasets=True)"
   ]
  }
 ],
 "metadata": {
  "language_info": {
   "name": "python"
  }
 },
 "nbformat": 4,
 "nbformat_minor": 2
}

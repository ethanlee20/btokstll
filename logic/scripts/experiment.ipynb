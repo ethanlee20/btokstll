{
 "cells": [
  {
   "cell_type": "code",
   "execution_count": 1,
   "id": "a07eca79",
   "metadata": {},
   "outputs": [
    {
     "name": "stdout",
     "output_type": "stream",
     "text": [
      "Device:  cuda\n"
     ]
    }
   ],
   "source": [
    "import torch\n",
    "\n",
    "from helpers.model.util import select_device\n",
    "from helpers.experiment.experiment import Experiment\n",
    "from helpers.experiment.configs import (\n",
    "    Config_Experiment_Images,\n",
    "    Config_Experiment_Deep_Sets,\n",
    "    Config_Experiment_Event_by_Event\n",
    ")\n",
    "from helpers.data.dset.config import Config_Dataset\n",
    "from helpers.data.dset.constants import (\n",
    "    Names_Datasets,\n",
    "    Names_Levels,\n",
    "    Names_q_Squared_Vetos,\n",
    "    Names_Splits,\n",
    "    Names_Variables,\n",
    "    Nums_Events_Per_Set\n",
    ")\n",
    "from helpers.model.config import Config_Model\n",
    "from helpers.model.constants import Names_Models\n",
    "from helpers.plot.util import setup_high_quality_mpl_params\n",
    "\n",
    "\n",
    "setup_high_quality_mpl_params()\n",
    "\n",
    "path_dir_plots = \"../../state/new_physics/plots\"\n",
    "\n",
    "\n",
    "device = select_device()\n",
    "\n",
    "\n",
    "experiment = Experiment(\n",
    "    path_dir_plots=path_dir_plots,\n",
    "    device=device,\n",
    ")\n"
   ]
  },
  {
   "cell_type": "markdown",
   "id": "76f94f9f",
   "metadata": {},
   "source": [
    "Images Method"
   ]
  },
  {
   "cell_type": "code",
   "execution_count": null,
   "id": "69862d8d",
   "metadata": {},
   "outputs": [],
   "source": [
    "\n",
    "config_experiment_images = Config_Experiment_Images()"
   ]
  },
  {
   "cell_type": "code",
   "execution_count": null,
   "id": "a4394de4",
   "metadata": {},
   "outputs": [],
   "source": [
    "config_experiment_images.get_config_dset(Names_Levels().detector_and_background, 70_000, \"eval\").num_events_per_set_bkg"
   ]
  },
  {
   "cell_type": "markdown",
   "id": "5f63f8a1",
   "metadata": {},
   "source": [
    "Train"
   ]
  },
  {
   "cell_type": "code",
   "execution_count": null,
   "id": "51b1b1be",
   "metadata": {},
   "outputs": [],
   "source": [
    "for level in (Names_Levels().detector_and_background,):\n",
    "\n",
    "    for num_events_per_set in Nums_Events_Per_Set().tuple_:\n",
    "\n",
    "        experiment.train(\n",
    "            config_model=config_experiment_images.get_config_model(\n",
    "                level=level, \n",
    "                num_events_per_set=num_events_per_set\n",
    "            ),\n",
    "            config_dset_eval=config_experiment_images.get_config_dset(\n",
    "                level=level, \n",
    "                num_events_per_set=num_events_per_set, \n",
    "                kind=\"eval\"\n",
    "            ),\n",
    "            generate_dsets=True,\n",
    "        )"
   ]
  },
  {
   "cell_type": "markdown",
   "id": "7dd3b5b5",
   "metadata": {},
   "source": [
    "Eval"
   ]
  },
  {
   "cell_type": "code",
   "execution_count": null,
   "id": "e895a09b",
   "metadata": {},
   "outputs": [],
   "source": [
    "for level in Names_Levels().tuple_:\n",
    "\n",
    "    for num_events_per_set in Nums_Events_Per_Set().tuple_:\n",
    "\n",
    "        experiment.evaluate(\n",
    "            config_model=config_experiment_images.get_config_model(\n",
    "                level=level, \n",
    "                num_events_per_set=num_events_per_set\n",
    "            ), \n",
    "            config_dset_eval=config_experiment_images.get_config_dset(\n",
    "                level=level, \n",
    "                num_events_per_set=num_events_per_set, \n",
    "                kind=\"eval\"\n",
    "            ),\n",
    "            config_dset_eval_sens=config_experiment_images.get_config_dset(\n",
    "                level=level, \n",
    "                num_events_per_set=num_events_per_set, \n",
    "                kind=\"eval_sens\"\n",
    "            ),\n",
    "            generate_dsets=False, \n",
    "        )"
   ]
  },
  {
   "cell_type": "markdown",
   "id": "84419439",
   "metadata": {},
   "source": [
    "Deep Sets Method"
   ]
  },
  {
   "cell_type": "code",
   "execution_count": null,
   "id": "596d236b",
   "metadata": {},
   "outputs": [],
   "source": [
    "config_experiment_deep_sets = Config_Experiment_Deep_Sets()"
   ]
  },
  {
   "cell_type": "markdown",
   "id": "5bd6605b",
   "metadata": {},
   "source": [
    "Train"
   ]
  },
  {
   "cell_type": "code",
   "execution_count": null,
   "id": "b798a765",
   "metadata": {},
   "outputs": [],
   "source": [
    "for level in (Names_Levels().detector_and_background,):\n",
    "\n",
    "    for num_events_per_set in Nums_Events_Per_Set().tuple_:\n",
    "\n",
    "        experiment.train(\n",
    "            config_model=config_experiment_deep_sets.get_config_model(\n",
    "                level=level, \n",
    "                num_events_per_set=num_events_per_set\n",
    "            ),\n",
    "            config_dset_eval=config_experiment_deep_sets.get_config_dset(\n",
    "                level=level, \n",
    "                num_events_per_set=num_events_per_set, \n",
    "                kind=\"eval\"\n",
    "            ),\n",
    "            generate_dsets=True,\n",
    "        )"
   ]
  },
  {
   "cell_type": "markdown",
   "id": "66252005",
   "metadata": {},
   "source": [
    "Eval"
   ]
  },
  {
   "cell_type": "code",
   "execution_count": null,
   "id": "dbc3e8c2",
   "metadata": {},
   "outputs": [],
   "source": [
    "for level in Names_Levels().tuple_:\n",
    "\n",
    "    for num_events_per_set in Nums_Events_Per_Set().tuple_:\n",
    "\n",
    "        experiment.evaluate(\n",
    "            config_model=config_experiment_deep_sets.get_config_model(\n",
    "                level=level, \n",
    "                num_events_per_set=num_events_per_set\n",
    "            ), \n",
    "            config_dset_eval=config_experiment_deep_sets.get_config_dset(\n",
    "                level=level, \n",
    "                num_events_per_set=num_events_per_set, \n",
    "                kind=\"eval\"\n",
    "            ),\n",
    "            config_dset_eval_sens=config_experiment_deep_sets.get_config_dset(\n",
    "                level=level, \n",
    "                num_events_per_set=num_events_per_set, \n",
    "                kind=\"eval_sens\"\n",
    "            ),\n",
    "            generate_dsets=False, \n",
    "        )"
   ]
  },
  {
   "cell_type": "markdown",
   "id": "05ba487b",
   "metadata": {},
   "source": [
    "Event by event Method"
   ]
  },
  {
   "cell_type": "code",
   "execution_count": 2,
   "id": "2281addd",
   "metadata": {},
   "outputs": [],
   "source": [
    "config_experiment_ebe = Config_Experiment_Event_by_Event()"
   ]
  },
  {
   "cell_type": "markdown",
   "id": "02012e46",
   "metadata": {},
   "source": [
    "Train"
   ]
  },
  {
   "cell_type": "code",
   "execution_count": null,
   "id": "80b9e0d4",
   "metadata": {},
   "outputs": [
    {
     "name": "stdout",
     "output_type": "stream",
     "text": [
      "Loaded tensor of shape: torch.Size([20061844, 4]) from: ..\\..\\state\\new_physics\\data\\processed\\events_binned_gen_q2v_loose\\train_features.pt\n",
      "Loaded tensor of shape: torch.Size([20061844, 44]) from: ..\\..\\state\\new_physics\\data\\processed\\events_binned_gen_q2v_loose\\train_labels.pt\n",
      "Loaded tensor of shape: torch.Size([44]) from: ..\\..\\state\\new_physics\\data\\processed\\events_binned_gen_q2v_loose\\train_bin_map.pt\n",
      "Loaded dataset: events_binned\n",
      "Loaded tensor of shape: torch.Size([20061448, 4]) from: ..\\..\\state\\new_physics\\data\\processed\\events_binned_gen_q2v_loose\\eval_features.pt\n",
      "Loaded tensor of shape: torch.Size([20061448, 44]) from: ..\\..\\state\\new_physics\\data\\processed\\events_binned_gen_q2v_loose\\eval_labels.pt\n",
      "Loaded tensor of shape: torch.Size([44]) from: ..\\..\\state\\new_physics\\data\\processed\\events_binned_gen_q2v_loose\\eval_bin_map.pt\n",
      "Loaded dataset: events_binned\n",
      "\n",
      "Epoch 0 complete:\n",
      "    Train loss: 3.7824318817181295\n",
      "    Eval loss: 3.7812057001974337\n",
      "\n",
      "Peak GPU memory usage:\n",
      "0.03575 GB\n",
      "Saved loss table.\n",
      "Saved checkpoint at epoch: 0\n",
      "\n",
      "Epoch 1 complete:\n",
      "    Train loss: 3.7808176370090747\n",
      "    Eval loss: 3.7805903521065516\n",
      "\n",
      "Peak GPU memory usage:\n",
      "0.03575 GB\n"
     ]
    }
   ],
   "source": [
    "for level in (Names_Levels().tuple_):\n",
    "\n",
    "    experiment.train(\n",
    "        config_model=config_experiment_ebe.get_config_model(\n",
    "            level=level, \n",
    "        ),\n",
    "        config_dset_eval=config_experiment_ebe.get_config_dset(\n",
    "            level=level, \n",
    "            split=Names_Splits().eval_,\n",
    "        ),\n",
    "        generate_dsets=False,\n",
    "    )"
   ]
  },
  {
   "cell_type": "markdown",
   "id": "2ebfd319",
   "metadata": {},
   "source": [
    "Eval"
   ]
  },
  {
   "cell_type": "code",
   "execution_count": null,
   "id": "55b164fe",
   "metadata": {},
   "outputs": [],
   "source": [
    "for level in Names_Levels().tuple_:\n",
    "\n",
    "    for num_events_per_set in Nums_Events_Per_Set().tuple_:\n",
    "\n",
    "        experiment.evaluate(\n",
    "            config_model=config_experiment_ebe.get_config_model(\n",
    "                level=level, \n",
    "            ), \n",
    "            config_dset_eval=config_experiment_ebe.get_config_dset(\n",
    "                level=level, \n",
    "                split=Names_Splits().eval_,\n",
    "                num_events_per_set=num_events_per_set, \n",
    "            ),\n",
    "            config_dset_eval_sens=config_experiment_ebe.get_config_dset(\n",
    "                level=level, \n",
    "                split=Names_Splits().eval_,\n",
    "                sens=True,\n",
    "                num_events_per_set=num_events_per_set, \n",
    "            ),\n",
    "            generate_dsets=True, \n",
    "        )"
   ]
  },
  {
   "cell_type": "code",
   "execution_count": null,
   "id": "a076dd89",
   "metadata": {},
   "outputs": [],
   "source": [
    "experiment.table_summary.table\n"
   ]
  },
  {
   "cell_type": "code",
   "execution_count": null,
   "id": "bcdaf55f",
   "metadata": {},
   "outputs": [],
   "source": [
    "from math import sqrt\n",
    "import pathlib\n",
    "\n",
    "import matplotlib.pyplot as plt\n",
    "import pandas\n",
    "\n",
    "from helpers.plot.util import add_plot_note\n",
    "from helpers.result.constants import Names_Kinds_Items\n",
    "\n",
    "\n",
    "def plot(table):\n",
    "\n",
    "    y_lims = [\n",
    "        (0, 0.58), \n",
    "        (0, 0.62), \n",
    "        (0, 0.65), \n",
    "        (-1.2, -0.65), \n",
    "        (-0.4, 0.4)\n",
    "    ]\n",
    "\n",
    "    num_sets_nominal = 50\n",
    "    num_sets_sens = 2000\n",
    "\n",
    "    q_squared_veto = Names_q_Squared_Vetos().loose\n",
    "\n",
    "    names_models = (Names_Models().cnn, Names_Models().deep_sets)\n",
    "\n",
    "    markers = [\"o\", \"v\"]\n",
    "    colors = [\"#999999\", \"#377eb8\"]\n",
    "\n",
    "    linestyles = [\"-\", \"--\", \"-.\"]\n",
    "\n",
    "    for col, y_lim in zip(\n",
    "        table.columns, \n",
    "        y_lims\n",
    "    ):\n",
    "\n",
    "        _, ax = plt.subplots()\n",
    "        \n",
    "        for name_model, marker, color in zip(\n",
    "            names_models, \n",
    "            markers, \n",
    "            colors\n",
    "        ):\n",
    "            \n",
    "            for level, linestyle in zip(\n",
    "                Names_Levels().tuple_, \n",
    "                linestyles\n",
    "            ):\n",
    "\n",
    "                y = table.loc[\n",
    "                    pandas.IndexSlice[\n",
    "                        level, \n",
    "                        q_squared_veto, \n",
    "                        name_model,\n",
    "                    ], \n",
    "                    col,\n",
    "                ]\n",
    "\n",
    "                x = y.index\n",
    "\n",
    "                fmt = linestyle + marker\n",
    "                \n",
    "                ax.plot(\n",
    "                    x, \n",
    "                    y, \n",
    "                    fmt, \n",
    "                    label=f\"{name_model}, {level}\", \n",
    "                    c=color, \n",
    "                    markersize=5, \n",
    "                    alpha=.8\n",
    "                    )\n",
    "                \n",
    "                if (\n",
    "                    (col==Names_Kinds_Items().np_bias) \n",
    "                    or (col==Names_Kinds_Items().np_mean)\n",
    "                ):\n",
    "                \n",
    "                    errors = (\n",
    "                        table.loc[\n",
    "                            pandas.IndexSlice[\n",
    "                                level, \n",
    "                                q_squared_veto, \n",
    "                                name_model,\n",
    "                            ], \n",
    "                            Names_Kinds_Items().np_std,\n",
    "                        ] \n",
    "                        / sqrt(num_sets_sens)\n",
    "                    )\n",
    "                \n",
    "                    ax.errorbar(\n",
    "                        x=x, \n",
    "                        y=y, \n",
    "                        yerr=errors, \n",
    "                        fmt='none', \n",
    "                        elinewidth=0.5, \n",
    "                        capsize=0.5, \n",
    "                        color=\"black\",\n",
    "                    )\n",
    "\n",
    "            ax.set_ylim(y_lim)\n",
    "            ax.set_ylabel(f\"{col}\")\n",
    "            ax.set_xlabel(\"Number of events / set\")\n",
    "            ax.legend(ncols=2, markerscale=0.5, numpoints=1)\n",
    "\n",
    "            if (\n",
    "                (col==Names_Kinds_Items().np_bias) \n",
    "                or (col==Names_Kinds_Items().np_mean) \n",
    "                or (col==Names_Kinds_Items().np_std)\n",
    "            ):\n",
    "                add_plot_note(\n",
    "                    ax, \n",
    "                    f\"Num boots.: {num_sets_sens}\",\n",
    "                )\n",
    "            \n",
    "            else: \n",
    "                add_plot_note(\n",
    "                    ax, \n",
    "                    f\"Num boots./label: {num_sets_nominal}\",\n",
    "                )\n",
    "\n",
    "        file_name = f\"comp_{col}.png\"\n",
    "        file_path = pathlib.Path(path_dir_plots).joinpath(file_name)\n",
    "\n",
    "        plt.savefig(file_path, bbox_inches=\"tight\")\n",
    "        plt.close()\n",
    "\n",
    "plot(experiment.table_summary.table)"
   ]
  },
  {
   "cell_type": "code",
   "execution_count": null,
   "id": "73174b44",
   "metadata": {},
   "outputs": [],
   "source": []
  },
  {
   "cell_type": "code",
   "execution_count": null,
   "id": "23aa3b16",
   "metadata": {},
   "outputs": [],
   "source": [
    "import pandas\n",
    "\n",
    "df_charge = pandas.read_pickle(\"../../state/new_physics/data/raw/bkg/mu_sideb_generic_charge_whole.pkl\")\n",
    "\n",
    "df_mix = pandas.read_pickle(\"../../state/new_physics/data/raw/bkg/mu_sideb_generic_mix_whole.pkl\")\n"
   ]
  },
  {
   "cell_type": "code",
   "execution_count": null,
   "id": "7abfdfe5",
   "metadata": {},
   "outputs": [],
   "source": [
    "def split(df):\n",
    "    ind_half = int(len(df)/2)\n",
    "    df_train = df[:ind_half].copy()\n",
    "    df_eval = df[ind_half:].copy()\n",
    "    return df_train, df_eval\n",
    "\n",
    "df_charge_train, df_charge_eval = split(df_charge.loc[\"det\"][list(Names_Variables().tuple_)])\n",
    "\n",
    "df_mix_train, df_mix_eval = split(df_mix.loc[\"det\"][list(Names_Variables().tuple_)])\n"
   ]
  },
  {
   "cell_type": "code",
   "execution_count": null,
   "id": "cc433c1e",
   "metadata": {},
   "outputs": [],
   "source": [
    "pandas.to_pickle(df_charge_train, \"../../state/new_physics/data/raw/bkg/mu_sideb_generic_charge_train.pkl\")"
   ]
  },
  {
   "cell_type": "code",
   "execution_count": null,
   "id": "3da6073f",
   "metadata": {},
   "outputs": [],
   "source": [
    "pandas.to_pickle(df_charge_eval, \"../../state/new_physics/data/raw/bkg/mu_sideb_generic_charge_eval.pkl\")\n"
   ]
  },
  {
   "cell_type": "code",
   "execution_count": null,
   "id": "56ea0fa6",
   "metadata": {},
   "outputs": [],
   "source": [
    "pandas.to_pickle(df_mix_train, \"../../state/new_physics/data/raw/bkg/mu_sideb_generic_mix_train.pkl\")\n"
   ]
  },
  {
   "cell_type": "code",
   "execution_count": null,
   "id": "46475fb3",
   "metadata": {},
   "outputs": [],
   "source": [
    "pandas.to_pickle(df_mix_eval, \"../../state/new_physics/data/raw/bkg/mu_sideb_generic_mix_eval.pkl\")\n"
   ]
  },
  {
   "cell_type": "code",
   "execution_count": null,
   "id": "e8e61205",
   "metadata": {},
   "outputs": [],
   "source": [
    "pandas.read_pickle(\"../../state/new_physics/data/raw/bkg/mu_sideb_generic_mix_train.pkl\")"
   ]
  },
  {
   "cell_type": "code",
   "execution_count": null,
   "id": "98ee2740",
   "metadata": {},
   "outputs": [],
   "source": [
    "pandas.read_pickle(\"../../state/new_physics/data/raw/bkg/mu_sideb_generic_mix_eval.pkl\")\n"
   ]
  },
  {
   "cell_type": "code",
   "execution_count": null,
   "id": "1d7aac1d",
   "metadata": {},
   "outputs": [],
   "source": [
    "pandas.read_pickle(\"../../state/new_physics/data/raw/bkg/mu_sideb_generic_charge_train.pkl\")"
   ]
  },
  {
   "cell_type": "code",
   "execution_count": null,
   "id": "4b390b20",
   "metadata": {},
   "outputs": [],
   "source": [
    "pandas.read_pickle(\"../../state/new_physics/data/raw/bkg/mu_sideb_generic_charge_eval.pkl\")"
   ]
  },
  {
   "cell_type": "code",
   "execution_count": null,
   "id": "7092f001",
   "metadata": {},
   "outputs": [],
   "source": [
    "import pandas\n",
    "from helpers.data.dset.preproc import apply_q_squared_veto\n",
    "\n",
    "\n",
    "df_bkg_charge = pandas.read_pickle(\"../../state/new_physics/data/raw/bkg/mu_sideb_generic_charge_train.pkl\")\n",
    "df_bkg_mix = pandas.read_pickle(\"../../state/new_physics/data/raw/bkg/mu_sideb_generic_mix_train.pkl\")\n",
    "\n",
    "df_bkg = pandas.concat([df_bkg_charge, df_bkg_mix])\n",
    "\n",
    "df_agg = pandas.read_pickle(\"../../state/new_physics/data/processed/agg_sig_1_to_20_det.pkl\")\n",
    "\n",
    "df_combo = pandas.concat([df_bkg[list(Names_Variables().tuple_)], df_agg[list(Names_Variables().tuple_)]])\n",
    "\n",
    "df_combo_q2v_tight = apply_q_squared_veto(df_combo, \"tight\")\n",
    "\n",
    "df_combo_q2v_tight.mean()\n",
    "\n"
   ]
  },
  {
   "cell_type": "code",
   "execution_count": null,
   "id": "b156acc0",
   "metadata": {},
   "outputs": [],
   "source": [
    "df_agg"
   ]
  },
  {
   "cell_type": "code",
   "execution_count": null,
   "id": "caaae35b",
   "metadata": {},
   "outputs": [],
   "source": [
    "import pandas\n",
    "\n",
    "df = pandas.read_pickle(\"../../state/new_physics/data/raw/bkg/mu_sideb_generic_mix_whole.pkl\").loc[\"det\"]\n",
    "df[df[\"isSignal\"]==0]"
   ]
  },
  {
   "cell_type": "code",
   "execution_count": null,
   "id": "93beb219",
   "metadata": {},
   "outputs": [],
   "source": []
  },
  {
   "cell_type": "code",
   "execution_count": null,
   "id": "bfc2807b",
   "metadata": {},
   "outputs": [],
   "source": []
  }
 ],
 "metadata": {
  "kernelspec": {
   "display_name": "maybe_ml",
   "language": "python",
   "name": "python3"
  },
  "language_info": {
   "codemirror_mode": {
    "name": "ipython",
    "version": 3
   },
   "file_extension": ".py",
   "mimetype": "text/x-python",
   "name": "python",
   "nbconvert_exporter": "python",
   "pygments_lexer": "ipython3",
   "version": "3.12.5"
  }
 },
 "nbformat": 4,
 "nbformat_minor": 5
}

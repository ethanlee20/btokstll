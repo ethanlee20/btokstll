{
 "cells": [
  {
   "cell_type": "markdown",
   "metadata": {},
   "source": [
    "$B \\rightarrow K^* \\ell \\ell$  machine learning experiment"
   ]
  },
  {
   "cell_type": "markdown",
   "metadata": {},
   "source": [
    "Setup"
   ]
  },
  {
   "cell_type": "code",
   "execution_count": null,
   "metadata": {},
   "outputs": [],
   "source": [
    "from torch.nn import MSELoss, CrossEntropyLoss\n",
    "import matplotlib.pyplot as plt\n",
    "\n",
    "from helpers.datasets.make_and_save.aggregated_signal import Aggregated_Signal_Dataframe_Handler\n",
    "from helpers.datasets.constants import Names_of_Levels, Names_of_q_Squared_Vetos, Raw_Signal_Trial_Ranges, Numbers_of_Events_per_Set, Names_of_Splits, Names_of_Labels\n",
    "from helpers.experiment.experiment import CNN_Group, Deep_Sets_Group, Event_by_Event_Group\n",
    "from helpers.experiment.results_table import Results_Table\n",
    "from helpers.experiment.constants import Paths_to_Directories\n",
    "from helpers.models.hardware_util import select_device\n",
    "from helpers.experiment.experiment import evaluate_model\n",
    "from helpers.datasets.settings.settings import Binned_Sets_Dataset_Settings\n",
    "from helpers.datasets.datasets import Unbinned_Sets_Dataset, Binned_Sets_Dataset\n",
    "from helpers.datasets.make_and_save.preprocessing import apply_q_squared_veto\n",
    "\n",
    "results_table = Results_Table()\n",
    "device = select_device()"
   ]
  },
  {
   "cell_type": "markdown",
   "metadata": {},
   "source": [
    "Remake aggregated signal dataframe files"
   ]
  },
  {
   "cell_type": "code",
   "execution_count": null,
   "metadata": {},
   "outputs": [],
   "source": [
    "for  level in (Names_of_Levels().generator, Names_of_Levels().detector):\n",
    "    for trial_range in Raw_Signal_Trial_Ranges().tuple_:\n",
    "        \n",
    "        Aggregated_Signal_Dataframe_Handler(\n",
    "            path_to_main_datasets_dir=Paths_to_Directories().path_to_main_datasets_dir,\n",
    "            level=level,\n",
    "            trial_range=trial_range\n",
    "        ).make_and_save(Paths_to_Directories().path_to_raw_signal_dir)"
   ]
  },
  {
   "cell_type": "markdown",
   "metadata": {},
   "source": [
    "Deep Sets"
   ]
  },
  {
   "cell_type": "code",
   "execution_count": null,
   "metadata": {},
   "outputs": [],
   "source": [
    "deep_sets_group = Deep_Sets_Group(\n",
    "    num_sets_per_label={6_000 : 583, 24_000 : 145, 70_000 : 50},\n",
    "    num_sets_per_label_sensitivity=2_000,\n",
    "    q_squared_veto=Names_of_q_Squared_Vetos().resonances,\n",
    "    std_scale=True,\n",
    "    shuffle=True,\n",
    "    uniform_label_counts=True,\n",
    "    loss_fn=MSELoss(),\n",
    "    learning_rate=3e-4,\n",
    "    learning_rate_scheduler_reduction_factor=0.97,\n",
    "    size_of_training_batch={6_000 : 373, 24_000 : 93, 70_000 : 32},\n",
    "    size_of_evaluation_batch={6_000 : 373, 24_000 : 93, 70_000 : 32},\n",
    "    number_of_epochs=100,\n",
    "    number_of_epochs_between_checkpoints=1,\n",
    "    results_table=results_table,\n",
    "    device=device,\n",
    "    bkg_fraction=0.2,\n",
    "    bkg_charge_fraction=0.5\n",
    ")\n",
    "\n",
    "deep_sets_group.train_subset(\n",
    "    levels=(Names_of_Levels().detector, Names_of_Levels().generator),\n",
    "    nums_events_per_set=(6_000,),\n",
    "    remake_datasets=True\n",
    ")\n",
    "\n",
    "deep_sets_group.evaluate_subset(\n",
    "    levels=(Names_of_Levels().detector, Names_of_Levels().generator), \n",
    "    nums_events_per_set=(6_000,), \n",
    "    remake_datasets=True,\n",
    "    epoch=\"final\"\n",
    ")"
   ]
  },
  {
   "cell_type": "code",
   "execution_count": null,
   "metadata": {},
   "outputs": [],
   "source": [
    "deep_sets_group.train_subset(\n",
    "    levels=Names_of_Levels().tuple_,\n",
    "    nums_events_per_set=(24_000, 70_000),\n",
    "    remake_datasets=True\n",
    ")\n",
    "\n",
    "deep_sets_group.evaluate_subset(\n",
    "    levels=Names_of_Levels().tuple_, \n",
    "    nums_events_per_set=(24_000, 70_000), \n",
    "    remake_datasets=True,\n",
    "    epoch=\"final\"\n",
    ")"
   ]
  },
  {
   "cell_type": "markdown",
   "metadata": {},
   "source": [
    "CNN"
   ]
  },
  {
   "cell_type": "code",
   "execution_count": null,
   "metadata": {},
   "outputs": [],
   "source": [
    "cnn_group = CNN_Group(\n",
    "    num_sets_per_label={6_000 : 583, 24_000 : 145, 70_000 : 50},\n",
    "    num_sets_per_label_sensitivity=2_000,\n",
    "    num_bins_per_dimension=10,\n",
    "    q_squared_veto=Names_of_q_Squared_Vetos().resonances,\n",
    "    std_scale=True,\n",
    "    shuffle=True,\n",
    "    uniform_label_counts=True,\n",
    "    loss_fn=MSELoss(),\n",
    "    learning_rate=3e-4,\n",
    "    learning_rate_scheduler_reduction_factor=0.95,\n",
    "    size_of_training_batch={6_000 : 373, 24_000 : 93, 70_000 : 32},\n",
    "    size_of_evaluation_batch={6_000 : 373, 24_000 : 93, 70_000 : 32},\n",
    "    number_of_epochs=50,\n",
    "    number_of_epochs_between_checkpoints=1,\n",
    "    results_table=results_table,\n",
    "    device=device,\n",
    "    bkg_fraction=0.2,\n",
    "    bkg_charge_fraction=0.5\n",
    ")\n",
    "\n",
    "cnn_group.train_subset(levels=[Names_of_Levels().detector,], nums_events_per_set=[6_000,], remake_datasets=True)\n",
    "cnn_group.evaluate_subset(levels=[Names_of_Levels().detector,], nums_events_per_set=[6_000,], remake_datasets=True)\n",
    "cnn_group.plot_image_examples_subset(levels=[Names_of_Levels().detector,], nums_events_per_set=[6_000,], remake_datasets=False)\n",
    "\n",
    "# cnn_group.train_all(remake_datasets=True)\n",
    "# cnn_group.evaluate_all(remake_datasets=True)\n",
    "# cnn_group.plot_image_examples_all(remake_datasets=False)"
   ]
  },
  {
   "cell_type": "code",
   "execution_count": null,
   "metadata": {},
   "outputs": [],
   "source": [
    "cnn_group.train_subset(levels=[Names_of_Levels().detector_and_background,], nums_events_per_set=[6_000,], remake_datasets=True)\n",
    "cnn_group.evaluate_subset(levels=[Names_of_Levels().detector_and_background,], nums_events_per_set=[6_000,], remake_datasets=True)\n",
    "cnn_group.plot_image_examples_subset(levels=[Names_of_Levels().detector_and_background,], nums_events_per_set=[6_000,], remake_datasets=False)"
   ]
  },
  {
   "cell_type": "code",
   "execution_count": null,
   "metadata": {},
   "outputs": [],
   "source": [
    "cnn_group.train_subset(levels=Names_of_Levels().tuple_, nums_events_per_set=[24_000, 70_000], remake_datasets=True)\n",
    "cnn_group.evaluate_subset(levels=Names_of_Levels().tuple_, nums_events_per_set=[24_000, 70_000], remake_datasets=True)\n",
    "cnn_group.plot_image_examples_subset(levels=Names_of_Levels().tuple_, nums_events_per_set=[24_000, 70_000], remake_datasets=False)"
   ]
  },
  {
   "cell_type": "markdown",
   "metadata": {},
   "source": [
    "Event-by-event"
   ]
  },
  {
   "cell_type": "code",
   "execution_count": null,
   "metadata": {},
   "outputs": [],
   "source": [
    "event_by_event_group = Event_by_Event_Group(\n",
    "    num_evaluation_sets_per_label=50,\n",
    "    num_evaluation_sets_per_label_sensitivity=2_000,\n",
    "    q_squared_veto=Names_of_q_Squared_Vetos().resonances,\n",
    "    std_scale=True,\n",
    "    shuffle=True,\n",
    "    uniform_label_counts=True,\n",
    "    loss_fn=CrossEntropyLoss(),\n",
    "    learning_rate=3e-3,\n",
    "    learning_rate_scheduler_reduction_factor=0.95,\n",
    "    size_of_training_batch=10_000,\n",
    "    size_of_evaluation_batch=10_000,\n",
    "    number_of_epochs=300,\n",
    "    number_of_epochs_between_checkpoints=2,\n",
    "    results_table=results_table,\n",
    "    device=device\n",
    ")\n",
    "\n",
    "# event_by_event_group.train_subset(levels=[Names_of_Levels.detector,], remake_datasets=True)\n",
    "\n",
    "event_by_event_group.evaluate_subset(\n",
    "    levels=[Names_of_Levels().detector,], \n",
    "    nums_events_per_set=[6_000, 24_000, 70_000], \n",
    "    remake_datasets=True,\n",
    "    epoch=\"final\"\n",
    ")"
   ]
  },
  {
   "cell_type": "code",
   "execution_count": null,
   "metadata": {},
   "outputs": [],
   "source": [
    "import pandas\n",
    "import matplotlib.pyplot as plt"
   ]
  },
  {
   "cell_type": "code",
   "execution_count": null,
   "metadata": {},
   "outputs": [],
   "source": [
    "charge_train = pandas.read_pickle(\"../../state/new_physics/data/raw/bkg/mu_sideb_generic_charge_train.pkl\")\n",
    "mix_train = pandas.read_pickle(\"../../state/new_physics/data/raw/bkg/mu_sideb_generic_mix_train.pkl\")\n",
    "all_train = pandas.concat([charge_train, mix_train])\n",
    "\n",
    "charge_eval = pandas.read_pickle(\"../../state/new_physics/data/raw/bkg/mu_sideb_generic_charge_eval.pkl\")\n",
    "mix_eval = pandas.read_pickle(\"../../state/new_physics/data/raw/bkg/mu_sideb_generic_mix_eval.pkl\")\n",
    "all_eval = pandas.concat([charge_eval, mix_eval])\n",
    "\n",
    "charge_eval = apply_q_squared_veto(charge_eval, Names_of_q_Squared_Vetos().resonances)\n",
    "charge_train = apply_q_squared_veto(charge_train, Names_of_q_Squared_Vetos().resonances)"
   ]
  },
  {
   "cell_type": "code",
   "execution_count": null,
   "metadata": {},
   "outputs": [],
   "source": [
    "charge_train"
   ]
  },
  {
   "cell_type": "code",
   "execution_count": null,
   "metadata": {},
   "outputs": [],
   "source": [
    "mix_train"
   ]
  },
  {
   "cell_type": "code",
   "execution_count": null,
   "metadata": {},
   "outputs": [],
   "source": [
    "charge_eval.count()"
   ]
  },
  {
   "cell_type": "code",
   "execution_count": null,
   "metadata": {},
   "outputs": [],
   "source": [
    "charge_eval.std()"
   ]
  },
  {
   "cell_type": "code",
   "execution_count": null,
   "metadata": {},
   "outputs": [],
   "source": [
    "cut(all_train[\"q_squared\"])"
   ]
  },
  {
   "cell_type": "code",
   "execution_count": null,
   "metadata": {},
   "outputs": [],
   "source": [
    "cut(all_eval[\"q_squared\"])"
   ]
  },
  {
   "cell_type": "code",
   "execution_count": null,
   "metadata": {},
   "outputs": [],
   "source": [
    "for  level in (Names_of_Levels().generator, Names_of_Levels().detector):\n",
    "    for trial_range in Raw_Signal_Trial_Ranges().tuple_:\n",
    "        print(level, trial_range)\n",
    "        Aggregated_Signal_Dataframe_Handler(\n",
    "            path_to_main_datasets_dir=Paths_to_Directories().path_to_main_datasets_dir,\n",
    "            level=level,\n",
    "            trial_range=trial_range\n",
    "        ).get_dataframe()[Names_of_Labels().unbinned].hist(bins=20)"
   ]
  },
  {
   "cell_type": "code",
   "execution_count": null,
   "metadata": {},
   "outputs": [],
   "source": [
    "dataframe = Aggregated_Signal_Dataframe_Handler(\n",
    "    path_to_main_datasets_dir=Paths_to_Directories().path_to_main_datasets_dir,\n",
    "    level=Names_of_Levels().detector,\n",
    "    trial_range=Raw_Signal_Trial_Ranges().train\n",
    ").get_dataframe()\n",
    "\n",
    "dataframe = apply_q_squared_veto(dataframe, Names_of_q_Squared_Vetos().resonances)\n",
    "\n",
    "label_counts = dataframe[Names_of_Labels().unbinned].value_counts()\n",
    "\n",
    "label_counts.values.min()\n",
    "\n",
    "# plt.scatter(label_counts.index, label_counts.values)\n",
    "# plt.ylim(0, 180_000)"
   ]
  },
  {
   "cell_type": "code",
   "execution_count": null,
   "metadata": {},
   "outputs": [],
   "source": [
    "dataframe"
   ]
  },
  {
   "cell_type": "code",
   "execution_count": null,
   "metadata": {},
   "outputs": [],
   "source": [
    "def reduce_num_per_label_to_lowest(dataframe):\n",
    "\n",
    "    num_lowest = dataframe[Names_of_Labels().unbinned].value_counts().values.max()\n",
    "    get_subset = lambda x : x.iloc[:num_lowest]\n",
    "    dataframe = (\n",
    "        dataframe.groupby(Names_of_Labels().unbinned, group_keys=False)[dataframe.columns]\n",
    "        .apply(get_subset)\n",
    "    )\n",
    "    return dataframe\n",
    "\n",
    "reduce_num_per_label_to_lowest(dataframe)"
   ]
  },
  {
   "cell_type": "code",
   "execution_count": null,
   "metadata": {},
   "outputs": [],
   "source": [
    "tuple({3 : 1, 4 : 2}.keys())\n"
   ]
  },
  {
   "cell_type": "code",
   "execution_count": null,
   "metadata": {},
   "outputs": [],
   "source": []
  }
 ],
 "metadata": {
  "kernelspec": {
   "display_name": "ml3",
   "language": "python",
   "name": "python3"
  },
  "language_info": {
   "codemirror_mode": {
    "name": "ipython",
    "version": 3
   },
   "file_extension": ".py",
   "mimetype": "text/x-python",
   "name": "python",
   "nbconvert_exporter": "python",
   "pygments_lexer": "ipython3",
   "version": "3.13.5"
  }
 },
 "nbformat": 4,
 "nbformat_minor": 2
}

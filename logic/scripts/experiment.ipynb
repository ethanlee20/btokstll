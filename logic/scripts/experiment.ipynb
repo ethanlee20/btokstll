{
 "cells": [
  {
   "cell_type": "markdown",
   "metadata": {},
   "source": [
    "$B \\rightarrow K^* \\ell \\ell$  machine learning experiment"
   ]
  },
  {
   "cell_type": "markdown",
   "metadata": {},
   "source": [
    "Setup"
   ]
  },
  {
   "cell_type": "code",
   "execution_count": 1,
   "metadata": {},
   "outputs": [
    {
     "name": "stdout",
     "output_type": "stream",
     "text": [
      "Device:  cuda\n"
     ]
    }
   ],
   "source": [
    "from torch.nn import MSELoss, CrossEntropyLoss\n",
    "import matplotlib.pyplot as plt\n",
    "\n",
    "from helpers.datasets.make_and_save.aggregated_signal import Aggregated_Signal_Dataframe_Handler\n",
    "from helpers.datasets.constants import Names_of_Levels, Names_of_q_Squared_Vetos, Raw_Signal_Trial_Ranges, Numbers_of_Events_per_Set, Names_of_Splits, Names_of_Labels\n",
    "from helpers.experiment.experiment import CNN_Group, Deep_Sets_Group, Event_by_Event_Group\n",
    "from helpers.experiment.results_table import Results_Table\n",
    "from helpers.experiment.constants import Paths_to_Directories\n",
    "from helpers.models.hardware_util import select_device\n",
    "from helpers.experiment.experiment import evaluate_model\n",
    "from helpers.datasets.settings.settings import Binned_Sets_Dataset_Settings\n",
    "from helpers.datasets.datasets import Unbinned_Sets_Dataset, Binned_Sets_Dataset\n",
    "from helpers.datasets.make_and_save.preprocessing import apply_q_squared_veto\n",
    "\n",
    "results_table = Results_Table()\n",
    "device = select_device()"
   ]
  },
  {
   "cell_type": "markdown",
   "metadata": {},
   "source": [
    "Remake aggregated signal dataframe files"
   ]
  },
  {
   "cell_type": "code",
   "execution_count": null,
   "metadata": {},
   "outputs": [],
   "source": [
    "for  level in (Names_of_Levels().generator, Names_of_Levels().detector):\n",
    "    for trial_range in Raw_Signal_Trial_Ranges().tuple_:\n",
    "        \n",
    "        Aggregated_Signal_Dataframe_Handler(\n",
    "            path_to_main_datasets_dir=Paths_to_Directories().path_to_main_datasets_dir,\n",
    "            level=level,\n",
    "            trial_range=trial_range\n",
    "        ).make_and_save(Paths_to_Directories().path_to_raw_signal_dir)"
   ]
  },
  {
   "cell_type": "markdown",
   "metadata": {},
   "source": [
    "Deep Sets"
   ]
  },
  {
   "cell_type": "code",
   "execution_count": null,
   "metadata": {},
   "outputs": [],
   "source": [
    "deep_sets_group = Deep_Sets_Group(\n",
    "    num_sets_per_label=50,\n",
    "    num_sets_per_label_sensitivity=2_000,\n",
    "    q_squared_veto=Names_of_q_Squared_Vetos().loose,\n",
    "    std_scale=True,\n",
    "    shuffle=True,\n",
    "    loss_fn=MSELoss(),\n",
    "    learning_rate=3e-4, # 3e-4\n",
    "    learning_rate_scheduler_reduction_factor=0.99, # 0.9\n",
    "    size_of_training_batch=32,\n",
    "    size_of_evaluation_batch=32,\n",
    "    number_of_epochs=100, # 100\n",
    "    number_of_epochs_between_checkpoints=1,\n",
    "    results_table=results_table,\n",
    "    device=device,\n",
    "    bkg_fraction=0.5,\n",
    "    bkg_charge_fraction=0.5\n",
    ")\n",
    "\n",
    "deep_sets_group.train_subset(\n",
    "    levels=(Names_of_Levels().detector_and_background,),\n",
    "    nums_events_per_set=(24_000,),\n",
    "    remake_datasets=False\n",
    ")\n",
    "deep_sets_group.evaluate_subset(\n",
    "    levels=(Names_of_Levels().detector_and_background,), \n",
    "    nums_events_per_set=(24_000,), \n",
    "    remake_datasets=False,\n",
    "    epoch=\"final\"\n",
    ")"
   ]
  },
  {
   "cell_type": "markdown",
   "metadata": {},
   "source": [
    "CNN"
   ]
  },
  {
   "cell_type": "code",
   "execution_count": null,
   "metadata": {},
   "outputs": [],
   "source": [
    "cnn_group = CNN_Group(\n",
    "    num_sets_per_label=50,\n",
    "    num_sets_per_label_sensitivity=2_000,\n",
    "    num_bins_per_dimension=10,\n",
    "    q_squared_veto=Names_of_q_Squared_Vetos().loose,\n",
    "    std_scale=True,\n",
    "    shuffle=True,\n",
    "    loss_fn=MSELoss(),\n",
    "    learning_rate=3e-4,\n",
    "    learning_rate_scheduler_reduction_factor=0.9,\n",
    "    size_of_training_batch=32,\n",
    "    size_of_evaluation_batch=32,\n",
    "    number_of_epochs=100,\n",
    "    number_of_epochs_between_checkpoints=5,\n",
    "    results_table=results_table,\n",
    "    device=device,\n",
    "    bkg_fraction=0.5,\n",
    "    bkg_charge_fraction=0.5\n",
    ")\n",
    "\n",
    "# cnn_group.train_all(remake_datasets=True)\n",
    "# cnn_group.evaluate_all(remake_datasets=True)\n",
    "cnn_group.plot_image_examples_all(remake_datasets=False)"
   ]
  },
  {
   "cell_type": "markdown",
   "metadata": {},
   "source": [
    "Event-by-event"
   ]
  },
  {
   "cell_type": "code",
   "execution_count": null,
   "metadata": {},
   "outputs": [],
   "source": [
    "event_by_event_group = Event_by_Event_Group(\n",
    "    num_evaluation_sets_per_label=50,\n",
    "    num_evaluation_sets_per_label_sensitivity=2_000,\n",
    "    q_squared_veto=Names_of_q_Squared_Vetos().loose,\n",
    "    std_scale=True,\n",
    "    shuffle=True,\n",
    "    loss_fn=CrossEntropyLoss(),\n",
    "    learning_rate=3e-3,\n",
    "    learning_rate_scheduler_reduction_factor=0.97,\n",
    "    size_of_training_batch=10_000,\n",
    "    size_of_evaluation_batch=10_000,\n",
    "    number_of_epochs=300,\n",
    "    number_of_epochs_between_checkpoints=5,\n",
    "    results_table=results_table,\n",
    "    device=device\n",
    ")\n",
    "\n",
    "event_by_event_group.train_subset(levels=[Names_of_Levels.generator,], remake_datasets=True)\n",
    "\n",
    "event_by_event_group.evaluate_subset(\n",
    "    levels=[Names_of_Levels().generator,], \n",
    "    nums_events_per_set=[24_000, 6_000, 70_000], \n",
    "    remake_datasets=True,\n",
    "    epoch=\"final\"\n",
    ")"
   ]
  },
  {
   "cell_type": "code",
   "execution_count": null,
   "metadata": {},
   "outputs": [],
   "source": [
    "import pandas\n",
    "import matplotlib.pyplot as plt"
   ]
  },
  {
   "cell_type": "code",
   "execution_count": null,
   "metadata": {},
   "outputs": [],
   "source": [
    "charge_train = pandas.read_pickle(\"../../state/new_physics/data/raw/bkg/mu_sideb_generic_charge_train.pkl\")\n",
    "mix_train = pandas.read_pickle(\"../../state/new_physics/data/raw/bkg/mu_sideb_generic_mix_train.pkl\")\n",
    "all_train = pandas.concat([charge_train, mix_train])\n",
    "\n",
    "charge_eval = pandas.read_pickle(\"../../state/new_physics/data/raw/bkg/mu_sideb_generic_charge_eval.pkl\")\n",
    "mix_eval = pandas.read_pickle(\"../../state/new_physics/data/raw/bkg/mu_sideb_generic_mix_eval.pkl\")\n",
    "all_eval = pandas.concat([charge_eval, mix_eval])\n",
    "\n",
    "cut_j_psi = lambda x : x[(x < 9.25) | (x > 9.76)] \n",
    "cut_psi_2s = lambda x : x[(x < 13.5) | (x > 13.7)]\n",
    "cut = lambda x :  cut_psi_2s(cut_j_psi(x))"
   ]
  },
  {
   "cell_type": "code",
   "execution_count": null,
   "metadata": {},
   "outputs": [],
   "source": [
    "plt.hist(cut(all_train[\"q_squared\"]), bins=500, range=(0, 20))\n",
    "plt.hist(cut(charge_train[\"q_squared\"]), bins=500, range=(0, 20))\n",
    "plt.hist(cut(mix_train[\"q_squared\"]), bins=500, range=(0, 20))\n",
    "plt.xlim(0, 20)"
   ]
  },
  {
   "cell_type": "code",
   "execution_count": null,
   "metadata": {},
   "outputs": [],
   "source": [
    "plt.hist(cut(all_eval[\"q_squared\"]), bins=500, range=(0, 20))\n",
    "plt.hist(cut(charge_eval[\"q_squared\"]), bins=500, range=(0, 20))\n",
    "plt.hist(cut(mix_eval[\"q_squared\"]), bins=500, range=(0, 20))\n",
    "plt.xlim(0, 20)"
   ]
  },
  {
   "cell_type": "code",
   "execution_count": null,
   "metadata": {},
   "outputs": [],
   "source": [
    "cut(all_train[\"q_squared\"])"
   ]
  },
  {
   "cell_type": "code",
   "execution_count": null,
   "metadata": {},
   "outputs": [],
   "source": [
    "cut(all_eval[\"q_squared\"])"
   ]
  },
  {
   "cell_type": "code",
   "execution_count": 38,
   "metadata": {},
   "outputs": [
    {
     "name": "stdout",
     "output_type": "stream",
     "text": [
      "gen range(1, 21)\n",
      "gen range(21, 41)\n",
      "det range(1, 21)\n",
      "det range(21, 41)\n"
     ]
    },
    {
     "data": {
      "image/png": "[encoded data removed]",
      "text/plain": [
       "<Figure size 640x480 with 1 Axes>"
      ]
     },
     "metadata": {},
     "output_type": "display_data"
    }
   ],
   "source": [
    "for  level in (Names_of_Levels().generator, Names_of_Levels().detector):\n",
    "    for trial_range in Raw_Signal_Trial_Ranges().tuple_:\n",
    "        print(level, trial_range)\n",
    "        Aggregated_Signal_Dataframe_Handler(\n",
    "            path_to_main_datasets_dir=Paths_to_Directories().path_to_main_datasets_dir,\n",
    "            level=level,\n",
    "            trial_range=trial_range\n",
    "        ).get_dataframe()[Names_of_Labels().unbinned].hist(bins=20)"
   ]
  },
  {
   "cell_type": "code",
   "execution_count": 15,
   "metadata": {},
   "outputs": [
    {
     "data": {
      "text/plain": [
       "np.int64(159515)"
      ]
     },
     "execution_count": 15,
     "metadata": {},
     "output_type": "execute_result"
    }
   ],
   "source": [
    "dataframe = Aggregated_Signal_Dataframe_Handler(\n",
    "    path_to_main_datasets_dir=Paths_to_Directories().path_to_main_datasets_dir,\n",
    "    level=Names_of_Levels().detector,\n",
    "    trial_range=Raw_Signal_Trial_Ranges().train\n",
    ").get_dataframe()\n",
    "\n",
    "dataframe = apply_q_squared_veto(dataframe, Names_of_q_Squared_Vetos().resonances)\n",
    "\n",
    "label_counts = dataframe[Names_of_Labels().unbinned].value_counts()\n",
    "\n",
    "label_counts.values.min()\n",
    "\n",
    "# plt.scatter(label_counts.index, label_counts.values)\n",
    "# plt.ylim(0, 180_000)"
   ]
  },
  {
   "cell_type": "code",
   "execution_count": 30,
   "metadata": {},
   "outputs": [
    {
     "data": {
      "text/html": [
       "<div>\n",
       "<style scoped>\n",
       "    .dataframe tbody tr th:only-of-type {\n",
       "        vertical-align: middle;\n",
       "    }\n",
       "\n",
       "    .dataframe tbody tr th {\n",
       "        vertical-align: top;\n",
       "    }\n",
       "\n",
       "    .dataframe thead th {\n",
       "        text-align: right;\n",
       "    }\n",
       "</style>\n",
       "<table border=\"1\" class=\"dataframe\">\n",
       "  <thead>\n",
       "    <tr style=\"text-align: right;\">\n",
       "      <th></th>\n",
       "      <th>q_squared</th>\n",
       "      <th>costheta_mu</th>\n",
       "      <th>costheta_K</th>\n",
       "      <th>chi</th>\n",
       "      <th>dc9</th>\n",
       "      <th>dc9_bin_index</th>\n",
       "    </tr>\n",
       "  </thead>\n",
       "  <tbody>\n",
       "    <tr>\n",
       "      <th>0</th>\n",
       "      <td>2.923588</td>\n",
       "      <td>0.410200</td>\n",
       "      <td>0.972397</td>\n",
       "      <td>1.926879</td>\n",
       "      <td>-0.01</td>\n",
       "      <td>27</td>\n",
       "    </tr>\n",
       "    <tr>\n",
       "      <th>1</th>\n",
       "      <td>2.876313</td>\n",
       "      <td>-0.012163</td>\n",
       "      <td>0.395988</td>\n",
       "      <td>4.557953</td>\n",
       "      <td>-0.01</td>\n",
       "      <td>27</td>\n",
       "    </tr>\n",
       "    <tr>\n",
       "      <th>2</th>\n",
       "      <td>18.961957</td>\n",
       "      <td>-0.050265</td>\n",
       "      <td>0.827746</td>\n",
       "      <td>1.587596</td>\n",
       "      <td>-0.01</td>\n",
       "      <td>27</td>\n",
       "    </tr>\n",
       "    <tr>\n",
       "      <th>3</th>\n",
       "      <td>3.344651</td>\n",
       "      <td>0.174485</td>\n",
       "      <td>0.984753</td>\n",
       "      <td>1.401428</td>\n",
       "      <td>-0.01</td>\n",
       "      <td>27</td>\n",
       "    </tr>\n",
       "    <tr>\n",
       "      <th>4</th>\n",
       "      <td>14.531015</td>\n",
       "      <td>0.589343</td>\n",
       "      <td>0.685277</td>\n",
       "      <td>1.866032</td>\n",
       "      <td>-0.01</td>\n",
       "      <td>27</td>\n",
       "    </tr>\n",
       "    <tr>\n",
       "      <th>...</th>\n",
       "      <td>...</td>\n",
       "      <td>...</td>\n",
       "      <td>...</td>\n",
       "      <td>...</td>\n",
       "      <td>...</td>\n",
       "      <td>...</td>\n",
       "    </tr>\n",
       "    <tr>\n",
       "      <th>8990</th>\n",
       "      <td>19.163194</td>\n",
       "      <td>-0.040717</td>\n",
       "      <td>-0.692058</td>\n",
       "      <td>4.450255</td>\n",
       "      <td>1.10</td>\n",
       "      <td>43</td>\n",
       "    </tr>\n",
       "    <tr>\n",
       "      <th>8991</th>\n",
       "      <td>14.909839</td>\n",
       "      <td>-0.085245</td>\n",
       "      <td>0.014305</td>\n",
       "      <td>1.221083</td>\n",
       "      <td>1.10</td>\n",
       "      <td>43</td>\n",
       "    </tr>\n",
       "    <tr>\n",
       "      <th>8992</th>\n",
       "      <td>5.536884</td>\n",
       "      <td>0.654435</td>\n",
       "      <td>-0.825654</td>\n",
       "      <td>4.633005</td>\n",
       "      <td>1.10</td>\n",
       "      <td>43</td>\n",
       "    </tr>\n",
       "    <tr>\n",
       "      <th>8993</th>\n",
       "      <td>16.662516</td>\n",
       "      <td>0.096783</td>\n",
       "      <td>-0.790189</td>\n",
       "      <td>0.491373</td>\n",
       "      <td>1.10</td>\n",
       "      <td>43</td>\n",
       "    </tr>\n",
       "    <tr>\n",
       "      <th>8994</th>\n",
       "      <td>14.323894</td>\n",
       "      <td>0.535017</td>\n",
       "      <td>-0.444524</td>\n",
       "      <td>4.679037</td>\n",
       "      <td>1.10</td>\n",
       "      <td>43</td>\n",
       "    </tr>\n",
       "  </tbody>\n",
       "</table>\n",
       "<p>7398179 rows × 6 columns</p>\n",
       "</div>"
      ],
      "text/plain": [
       "      q_squared  costheta_mu  costheta_K       chi   dc9  dc9_bin_index\n",
       "0      2.923588     0.410200    0.972397  1.926879 -0.01             27\n",
       "1      2.876313    -0.012163    0.395988  4.557953 -0.01             27\n",
       "2     18.961957    -0.050265    0.827746  1.587596 -0.01             27\n",
       "3      3.344651     0.174485    0.984753  1.401428 -0.01             27\n",
       "4     14.531015     0.589343    0.685277  1.866032 -0.01             27\n",
       "...         ...          ...         ...       ...   ...            ...\n",
       "8990  19.163194    -0.040717   -0.692058  4.450255  1.10             43\n",
       "8991  14.909839    -0.085245    0.014305  1.221083  1.10             43\n",
       "8992   5.536884     0.654435   -0.825654  4.633005  1.10             43\n",
       "8993  16.662516     0.096783   -0.790189  0.491373  1.10             43\n",
       "8994  14.323894     0.535017   -0.444524  4.679037  1.10             43\n",
       "\n",
       "[7398179 rows x 6 columns]"
      ]
     },
     "execution_count": 30,
     "metadata": {},
     "output_type": "execute_result"
    }
   ],
   "source": [
    "dataframe"
   ]
  },
  {
   "cell_type": "code",
   "execution_count": null,
   "metadata": {},
   "outputs": [
    {
     "name": "stdout",
     "output_type": "stream",
     "text": [
      "170912\n"
     ]
    },
    {
     "data": {
      "text/html": [
       "<div>\n",
       "<style scoped>\n",
       "    .dataframe tbody tr th:only-of-type {\n",
       "        vertical-align: middle;\n",
       "    }\n",
       "\n",
       "    .dataframe tbody tr th {\n",
       "        vertical-align: top;\n",
       "    }\n",
       "\n",
       "    .dataframe thead th {\n",
       "        text-align: right;\n",
       "    }\n",
       "</style>\n",
       "<table border=\"1\" class=\"dataframe\">\n",
       "  <thead>\n",
       "    <tr style=\"text-align: right;\">\n",
       "      <th></th>\n",
       "      <th>q_squared</th>\n",
       "      <th>costheta_mu</th>\n",
       "      <th>costheta_K</th>\n",
       "      <th>chi</th>\n",
       "      <th>dc9</th>\n",
       "      <th>dc9_bin_index</th>\n",
       "    </tr>\n",
       "  </thead>\n",
       "  <tbody>\n",
       "    <tr>\n",
       "      <th>0</th>\n",
       "      <td>14.229128</td>\n",
       "      <td>0.909718</td>\n",
       "      <td>0.019379</td>\n",
       "      <td>2.887177</td>\n",
       "      <td>-2.00</td>\n",
       "      <td>0</td>\n",
       "    </tr>\n",
       "    <tr>\n",
       "      <th>0</th>\n",
       "      <td>16.289422</td>\n",
       "      <td>0.794715</td>\n",
       "      <td>-0.469062</td>\n",
       "      <td>0.860444</td>\n",
       "      <td>-2.00</td>\n",
       "      <td>0</td>\n",
       "    </tr>\n",
       "    <tr>\n",
       "      <th>0</th>\n",
       "      <td>7.232186</td>\n",
       "      <td>-0.757619</td>\n",
       "      <td>0.567033</td>\n",
       "      <td>5.534173</td>\n",
       "      <td>-2.00</td>\n",
       "      <td>0</td>\n",
       "    </tr>\n",
       "    <tr>\n",
       "      <th>0</th>\n",
       "      <td>16.352609</td>\n",
       "      <td>0.583625</td>\n",
       "      <td>0.331892</td>\n",
       "      <td>2.905804</td>\n",
       "      <td>-2.00</td>\n",
       "      <td>0</td>\n",
       "    </tr>\n",
       "    <tr>\n",
       "      <th>0</th>\n",
       "      <td>10.479632</td>\n",
       "      <td>-0.552742</td>\n",
       "      <td>-0.793383</td>\n",
       "      <td>0.576109</td>\n",
       "      <td>-2.00</td>\n",
       "      <td>0</td>\n",
       "    </tr>\n",
       "    <tr>\n",
       "      <th>...</th>\n",
       "      <td>...</td>\n",
       "      <td>...</td>\n",
       "      <td>...</td>\n",
       "      <td>...</td>\n",
       "      <td>...</td>\n",
       "      <td>...</td>\n",
       "    </tr>\n",
       "    <tr>\n",
       "      <th>9120</th>\n",
       "      <td>2.430521</td>\n",
       "      <td>-0.275164</td>\n",
       "      <td>-0.962866</td>\n",
       "      <td>3.399410</td>\n",
       "      <td>0.29</td>\n",
       "      <td>32</td>\n",
       "    </tr>\n",
       "    <tr>\n",
       "      <th>9121</th>\n",
       "      <td>10.633638</td>\n",
       "      <td>0.454033</td>\n",
       "      <td>-0.650919</td>\n",
       "      <td>1.031620</td>\n",
       "      <td>0.29</td>\n",
       "      <td>32</td>\n",
       "    </tr>\n",
       "    <tr>\n",
       "      <th>9122</th>\n",
       "      <td>1.181908</td>\n",
       "      <td>0.301804</td>\n",
       "      <td>-0.815208</td>\n",
       "      <td>3.615059</td>\n",
       "      <td>0.29</td>\n",
       "      <td>32</td>\n",
       "    </tr>\n",
       "    <tr>\n",
       "      <th>9123</th>\n",
       "      <td>3.896743</td>\n",
       "      <td>-0.740041</td>\n",
       "      <td>-0.816052</td>\n",
       "      <td>0.122472</td>\n",
       "      <td>0.29</td>\n",
       "      <td>32</td>\n",
       "    </tr>\n",
       "    <tr>\n",
       "      <th>9124</th>\n",
       "      <td>18.809952</td>\n",
       "      <td>-0.518269</td>\n",
       "      <td>0.714887</td>\n",
       "      <td>1.094907</td>\n",
       "      <td>0.29</td>\n",
       "      <td>32</td>\n",
       "    </tr>\n",
       "  </tbody>\n",
       "</table>\n",
       "<p>7398179 rows × 6 columns</p>\n",
       "</div>"
      ],
      "text/plain": [
       "      q_squared  costheta_mu  costheta_K       chi   dc9  dc9_bin_index\n",
       "0     14.229128     0.909718    0.019379  2.887177 -2.00              0\n",
       "0     16.289422     0.794715   -0.469062  0.860444 -2.00              0\n",
       "0      7.232186    -0.757619    0.567033  5.534173 -2.00              0\n",
       "0     16.352609     0.583625    0.331892  2.905804 -2.00              0\n",
       "0     10.479632    -0.552742   -0.793383  0.576109 -2.00              0\n",
       "...         ...          ...         ...       ...   ...            ...\n",
       "9120   2.430521    -0.275164   -0.962866  3.399410  0.29             32\n",
       "9121  10.633638     0.454033   -0.650919  1.031620  0.29             32\n",
       "9122   1.181908     0.301804   -0.815208  3.615059  0.29             32\n",
       "9123   3.896743    -0.740041   -0.816052  0.122472  0.29             32\n",
       "9124  18.809952    -0.518269    0.714887  1.094907  0.29             32\n",
       "\n",
       "[7398179 rows x 6 columns]"
      ]
     },
     "execution_count": 49,
     "metadata": {},
     "output_type": "execute_result"
    }
   ],
   "source": [
    "def reduce_num_per_label_to_lowest(dataframe):\n",
    "\n",
    "    num_lowest = dataframe[Names_of_Labels().unbinned].value_counts().values.max()\n",
    "    get_subset = lambda x : x.iloc[:num_lowest]\n",
    "    dataframe = (\n",
    "        dataframe.groupby(Names_of_Labels().unbinned, group_keys=False)[dataframe.columns]\n",
    "        .apply(get_subset)\n",
    "    )\n",
    "    return dataframe\n",
    "\n",
    "reduce_num_per_label_to_lowest(dataframe)"
   ]
  },
  {
   "cell_type": "code",
   "execution_count": null,
   "metadata": {},
   "outputs": [],
   "source": []
  }
 ],
 "metadata": {
  "kernelspec": {
   "display_name": "ml3",
   "language": "python",
   "name": "python3"
  },
  "language_info": {
   "codemirror_mode": {
    "name": "ipython",
    "version": 3
   },
   "file_extension": ".py",
   "mimetype": "text/x-python",
   "name": "python",
   "nbconvert_exporter": "python",
   "pygments_lexer": "ipython3",
   "version": "3.13.5"
  }
 },
 "nbformat": 4,
 "nbformat_minor": 2
}

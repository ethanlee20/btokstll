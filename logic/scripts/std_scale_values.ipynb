{
 "cells": [
  {
   "cell_type": "markdown",
   "metadata": {},
   "source": [
    "Getting the mean and standard deviation for standard scaling.\n",
    "\n",
    "From the first 20 trials."
   ]
  },
  {
   "cell_type": "code",
   "execution_count": 1,
   "metadata": {},
   "outputs": [],
   "source": [
    "from library.datasets import (\n",
    "    load_aggregated_raw_signal,\n",
    "    apply_q_squared_veto\n",
    ")\n",
    "\n",
    "datasets_dir = \"../../state/new_physics/data/processed\""
   ]
  },
  {
   "cell_type": "code",
   "execution_count": 2,
   "metadata": {},
   "outputs": [
    {
     "name": "stdout",
     "output_type": "stream",
     "text": [
      "Loaded aggregated raw signal file: ..\\..\\state\\new_physics\\data\\processed\\agg_sig_1_to_20_gen.pkl\n",
      "Loaded aggregated raw signal file: ..\\..\\state\\new_physics\\data\\processed\\agg_sig_1_to_20_det.pkl\n"
     ]
    }
   ],
   "source": [
    "df_gen_train = apply_q_squared_veto(load_aggregated_raw_signal(\"gen\", \"train\", datasets_dir), \"loose\")\n",
    "df_det_train = apply_q_squared_veto(load_aggregated_raw_signal(\"det\", \"train\", datasets_dir), \"loose\")"
   ]
  },
  {
   "cell_type": "code",
   "execution_count": 3,
   "metadata": {},
   "outputs": [
    {
     "name": "stdout",
     "output_type": "stream",
     "text": [
      "Loaded aggregated raw signal file: ..\\..\\state\\new_physics\\data\\processed\\agg_sig_1_to_20_gen.pkl\n",
      "Loaded aggregated raw signal file: ..\\..\\state\\new_physics\\data\\processed\\agg_sig_1_to_20_det.pkl\n"
     ]
    }
   ],
   "source": [
    "df_gen_train_with_q2_veto = apply_q_squared_veto(load_aggregated_raw_signal(\"gen\", \"train\", datasets_dir), \"tight\")\n",
    "df_det_train_with_q2_veto = apply_q_squared_veto(load_aggregated_raw_signal(\"det\", \"train\", datasets_dir), \"tight\")"
   ]
  },
  {
   "cell_type": "code",
   "execution_count": 4,
   "metadata": {},
   "outputs": [
    {
     "data": {
      "text/html": [
       "<div>\n",
       "<style scoped>\n",
       "    .dataframe tbody tr th:only-of-type {\n",
       "        vertical-align: middle;\n",
       "    }\n",
       "\n",
       "    .dataframe tbody tr th {\n",
       "        vertical-align: top;\n",
       "    }\n",
       "\n",
       "    .dataframe thead th {\n",
       "        text-align: right;\n",
       "    }\n",
       "</style>\n",
       "<table border=\"1\" class=\"dataframe\">\n",
       "  <thead>\n",
       "    <tr style=\"text-align: right;\">\n",
       "      <th></th>\n",
       "      <th>q_squared</th>\n",
       "      <th>costheta_mu</th>\n",
       "      <th>costheta_K</th>\n",
       "      <th>chi</th>\n",
       "      <th>dc9</th>\n",
       "    </tr>\n",
       "  </thead>\n",
       "  <tbody>\n",
       "    <tr>\n",
       "      <th>0</th>\n",
       "      <td>15.476120</td>\n",
       "      <td>0.618049</td>\n",
       "      <td>0.511930</td>\n",
       "      <td>3.150466</td>\n",
       "      <td>-0.01</td>\n",
       "    </tr>\n",
       "    <tr>\n",
       "      <th>1</th>\n",
       "      <td>18.242179</td>\n",
       "      <td>-0.196014</td>\n",
       "      <td>-0.932849</td>\n",
       "      <td>3.143555</td>\n",
       "      <td>-0.01</td>\n",
       "    </tr>\n",
       "    <tr>\n",
       "      <th>2</th>\n",
       "      <td>6.564215</td>\n",
       "      <td>0.740818</td>\n",
       "      <td>-0.861226</td>\n",
       "      <td>3.228839</td>\n",
       "      <td>-0.01</td>\n",
       "    </tr>\n",
       "    <tr>\n",
       "      <th>3</th>\n",
       "      <td>5.359132</td>\n",
       "      <td>0.101577</td>\n",
       "      <td>0.983497</td>\n",
       "      <td>3.460548</td>\n",
       "      <td>-0.01</td>\n",
       "    </tr>\n",
       "    <tr>\n",
       "      <th>4</th>\n",
       "      <td>9.160250</td>\n",
       "      <td>-0.001021</td>\n",
       "      <td>0.461746</td>\n",
       "      <td>1.306527</td>\n",
       "      <td>-0.01</td>\n",
       "    </tr>\n",
       "    <tr>\n",
       "      <th>...</th>\n",
       "      <td>...</td>\n",
       "      <td>...</td>\n",
       "      <td>...</td>\n",
       "      <td>...</td>\n",
       "      <td>...</td>\n",
       "    </tr>\n",
       "    <tr>\n",
       "      <th>23995</th>\n",
       "      <td>3.332588</td>\n",
       "      <td>0.408602</td>\n",
       "      <td>-0.874146</td>\n",
       "      <td>0.691708</td>\n",
       "      <td>1.10</td>\n",
       "    </tr>\n",
       "    <tr>\n",
       "      <th>23996</th>\n",
       "      <td>17.124116</td>\n",
       "      <td>0.209795</td>\n",
       "      <td>0.095425</td>\n",
       "      <td>5.403040</td>\n",
       "      <td>1.10</td>\n",
       "    </tr>\n",
       "    <tr>\n",
       "      <th>23997</th>\n",
       "      <td>5.094312</td>\n",
       "      <td>0.032625</td>\n",
       "      <td>-0.879493</td>\n",
       "      <td>3.622947</td>\n",
       "      <td>1.10</td>\n",
       "    </tr>\n",
       "    <tr>\n",
       "      <th>23998</th>\n",
       "      <td>15.846740</td>\n",
       "      <td>0.075416</td>\n",
       "      <td>0.816169</td>\n",
       "      <td>5.207990</td>\n",
       "      <td>1.10</td>\n",
       "    </tr>\n",
       "    <tr>\n",
       "      <th>23999</th>\n",
       "      <td>8.796282</td>\n",
       "      <td>-0.321755</td>\n",
       "      <td>0.846202</td>\n",
       "      <td>3.321030</td>\n",
       "      <td>1.10</td>\n",
       "    </tr>\n",
       "  </tbody>\n",
       "</table>\n",
       "<p>21021610 rows × 5 columns</p>\n",
       "</div>"
      ],
      "text/plain": [
       "       q_squared  costheta_mu  costheta_K       chi   dc9\n",
       "0      15.476120     0.618049    0.511930  3.150466 -0.01\n",
       "1      18.242179    -0.196014   -0.932849  3.143555 -0.01\n",
       "2       6.564215     0.740818   -0.861226  3.228839 -0.01\n",
       "3       5.359132     0.101577    0.983497  3.460548 -0.01\n",
       "4       9.160250    -0.001021    0.461746  1.306527 -0.01\n",
       "...          ...          ...         ...       ...   ...\n",
       "23995   3.332588     0.408602   -0.874146  0.691708  1.10\n",
       "23996  17.124116     0.209795    0.095425  5.403040  1.10\n",
       "23997   5.094312     0.032625   -0.879493  3.622947  1.10\n",
       "23998  15.846740     0.075416    0.816169  5.207990  1.10\n",
       "23999   8.796282    -0.321755    0.846202  3.321030  1.10\n",
       "\n",
       "[21021610 rows x 5 columns]"
      ]
     },
     "execution_count": 4,
     "metadata": {},
     "output_type": "execute_result"
    }
   ],
   "source": [
    "df_gen_train"
   ]
  },
  {
   "cell_type": "code",
   "execution_count": 5,
   "metadata": {},
   "outputs": [
    {
     "data": {
      "text/html": [
       "<div>\n",
       "<style scoped>\n",
       "    .dataframe tbody tr th:only-of-type {\n",
       "        vertical-align: middle;\n",
       "    }\n",
       "\n",
       "    .dataframe tbody tr th {\n",
       "        vertical-align: top;\n",
       "    }\n",
       "\n",
       "    .dataframe thead th {\n",
       "        text-align: right;\n",
       "    }\n",
       "</style>\n",
       "<table border=\"1\" class=\"dataframe\">\n",
       "  <thead>\n",
       "    <tr style=\"text-align: right;\">\n",
       "      <th></th>\n",
       "      <th>q_squared</th>\n",
       "      <th>costheta_mu</th>\n",
       "      <th>costheta_K</th>\n",
       "      <th>chi</th>\n",
       "      <th>dc9</th>\n",
       "    </tr>\n",
       "  </thead>\n",
       "  <tbody>\n",
       "    <tr>\n",
       "      <th>0</th>\n",
       "      <td>2.923588</td>\n",
       "      <td>0.410200</td>\n",
       "      <td>0.972397</td>\n",
       "      <td>1.926879</td>\n",
       "      <td>-0.01</td>\n",
       "    </tr>\n",
       "    <tr>\n",
       "      <th>1</th>\n",
       "      <td>2.876313</td>\n",
       "      <td>-0.012163</td>\n",
       "      <td>0.395988</td>\n",
       "      <td>4.557953</td>\n",
       "      <td>-0.01</td>\n",
       "    </tr>\n",
       "    <tr>\n",
       "      <th>2</th>\n",
       "      <td>18.961957</td>\n",
       "      <td>-0.050265</td>\n",
       "      <td>0.827746</td>\n",
       "      <td>1.587596</td>\n",
       "      <td>-0.01</td>\n",
       "    </tr>\n",
       "    <tr>\n",
       "      <th>3</th>\n",
       "      <td>3.344651</td>\n",
       "      <td>0.174485</td>\n",
       "      <td>0.984753</td>\n",
       "      <td>1.401428</td>\n",
       "      <td>-0.01</td>\n",
       "    </tr>\n",
       "    <tr>\n",
       "      <th>4</th>\n",
       "      <td>14.531015</td>\n",
       "      <td>0.589343</td>\n",
       "      <td>0.685277</td>\n",
       "      <td>1.866032</td>\n",
       "      <td>-0.01</td>\n",
       "    </tr>\n",
       "    <tr>\n",
       "      <th>...</th>\n",
       "      <td>...</td>\n",
       "      <td>...</td>\n",
       "      <td>...</td>\n",
       "      <td>...</td>\n",
       "      <td>...</td>\n",
       "    </tr>\n",
       "    <tr>\n",
       "      <th>8990</th>\n",
       "      <td>19.163194</td>\n",
       "      <td>-0.040717</td>\n",
       "      <td>-0.692058</td>\n",
       "      <td>4.450255</td>\n",
       "      <td>1.10</td>\n",
       "    </tr>\n",
       "    <tr>\n",
       "      <th>8991</th>\n",
       "      <td>14.909839</td>\n",
       "      <td>-0.085245</td>\n",
       "      <td>0.014305</td>\n",
       "      <td>1.221083</td>\n",
       "      <td>1.10</td>\n",
       "    </tr>\n",
       "    <tr>\n",
       "      <th>8992</th>\n",
       "      <td>5.536884</td>\n",
       "      <td>0.654435</td>\n",
       "      <td>-0.825654</td>\n",
       "      <td>4.633005</td>\n",
       "      <td>1.10</td>\n",
       "    </tr>\n",
       "    <tr>\n",
       "      <th>8993</th>\n",
       "      <td>16.662516</td>\n",
       "      <td>0.096783</td>\n",
       "      <td>-0.790189</td>\n",
       "      <td>0.491373</td>\n",
       "      <td>1.10</td>\n",
       "    </tr>\n",
       "    <tr>\n",
       "      <th>8994</th>\n",
       "      <td>14.323894</td>\n",
       "      <td>0.535017</td>\n",
       "      <td>-0.444524</td>\n",
       "      <td>4.679037</td>\n",
       "      <td>1.10</td>\n",
       "    </tr>\n",
       "  </tbody>\n",
       "</table>\n",
       "<p>7732945 rows × 5 columns</p>\n",
       "</div>"
      ],
      "text/plain": [
       "      q_squared  costheta_mu  costheta_K       chi   dc9\n",
       "0      2.923588     0.410200    0.972397  1.926879 -0.01\n",
       "1      2.876313    -0.012163    0.395988  4.557953 -0.01\n",
       "2     18.961957    -0.050265    0.827746  1.587596 -0.01\n",
       "3      3.344651     0.174485    0.984753  1.401428 -0.01\n",
       "4     14.531015     0.589343    0.685277  1.866032 -0.01\n",
       "...         ...          ...         ...       ...   ...\n",
       "8990  19.163194    -0.040717   -0.692058  4.450255  1.10\n",
       "8991  14.909839    -0.085245    0.014305  1.221083  1.10\n",
       "8992   5.536884     0.654435   -0.825654  4.633005  1.10\n",
       "8993  16.662516     0.096783   -0.790189  0.491373  1.10\n",
       "8994  14.323894     0.535017   -0.444524  4.679037  1.10\n",
       "\n",
       "[7732945 rows x 5 columns]"
      ]
     },
     "execution_count": 5,
     "metadata": {},
     "output_type": "execute_result"
    }
   ],
   "source": [
    "df_det_train"
   ]
  },
  {
   "cell_type": "code",
   "execution_count": 6,
   "metadata": {},
   "outputs": [
    {
     "data": {
      "text/html": [
       "<div>\n",
       "<style scoped>\n",
       "    .dataframe tbody tr th:only-of-type {\n",
       "        vertical-align: middle;\n",
       "    }\n",
       "\n",
       "    .dataframe tbody tr th {\n",
       "        vertical-align: top;\n",
       "    }\n",
       "\n",
       "    .dataframe thead th {\n",
       "        text-align: right;\n",
       "    }\n",
       "</style>\n",
       "<table border=\"1\" class=\"dataframe\">\n",
       "  <thead>\n",
       "    <tr style=\"text-align: right;\">\n",
       "      <th></th>\n",
       "      <th>q_squared</th>\n",
       "      <th>costheta_mu</th>\n",
       "      <th>costheta_K</th>\n",
       "      <th>chi</th>\n",
       "      <th>dc9</th>\n",
       "    </tr>\n",
       "  </thead>\n",
       "  <tbody>\n",
       "    <tr>\n",
       "      <th>2</th>\n",
       "      <td>6.564215</td>\n",
       "      <td>0.740818</td>\n",
       "      <td>-0.861226</td>\n",
       "      <td>3.228839</td>\n",
       "      <td>-0.01</td>\n",
       "    </tr>\n",
       "    <tr>\n",
       "      <th>3</th>\n",
       "      <td>5.359132</td>\n",
       "      <td>0.101577</td>\n",
       "      <td>0.983497</td>\n",
       "      <td>3.460548</td>\n",
       "      <td>-0.01</td>\n",
       "    </tr>\n",
       "    <tr>\n",
       "      <th>6</th>\n",
       "      <td>2.916781</td>\n",
       "      <td>0.408023</td>\n",
       "      <td>0.968456</td>\n",
       "      <td>1.950059</td>\n",
       "      <td>-0.01</td>\n",
       "    </tr>\n",
       "    <tr>\n",
       "      <th>7</th>\n",
       "      <td>3.996172</td>\n",
       "      <td>0.358320</td>\n",
       "      <td>0.286946</td>\n",
       "      <td>2.656886</td>\n",
       "      <td>-0.01</td>\n",
       "    </tr>\n",
       "    <tr>\n",
       "      <th>9</th>\n",
       "      <td>7.065142</td>\n",
       "      <td>0.801546</td>\n",
       "      <td>0.931857</td>\n",
       "      <td>0.145634</td>\n",
       "      <td>-0.01</td>\n",
       "    </tr>\n",
       "    <tr>\n",
       "      <th>...</th>\n",
       "      <td>...</td>\n",
       "      <td>...</td>\n",
       "      <td>...</td>\n",
       "      <td>...</td>\n",
       "      <td>...</td>\n",
       "    </tr>\n",
       "    <tr>\n",
       "      <th>23988</th>\n",
       "      <td>7.099526</td>\n",
       "      <td>0.084240</td>\n",
       "      <td>-0.915067</td>\n",
       "      <td>1.402989</td>\n",
       "      <td>1.10</td>\n",
       "    </tr>\n",
       "    <tr>\n",
       "      <th>23989</th>\n",
       "      <td>4.590474</td>\n",
       "      <td>0.762792</td>\n",
       "      <td>-0.709526</td>\n",
       "      <td>2.630846</td>\n",
       "      <td>1.10</td>\n",
       "    </tr>\n",
       "    <tr>\n",
       "      <th>23994</th>\n",
       "      <td>6.122463</td>\n",
       "      <td>0.853467</td>\n",
       "      <td>0.520956</td>\n",
       "      <td>3.315593</td>\n",
       "      <td>1.10</td>\n",
       "    </tr>\n",
       "    <tr>\n",
       "      <th>23995</th>\n",
       "      <td>3.332588</td>\n",
       "      <td>0.408602</td>\n",
       "      <td>-0.874146</td>\n",
       "      <td>0.691708</td>\n",
       "      <td>1.10</td>\n",
       "    </tr>\n",
       "    <tr>\n",
       "      <th>23997</th>\n",
       "      <td>5.094312</td>\n",
       "      <td>0.032625</td>\n",
       "      <td>-0.879493</td>\n",
       "      <td>3.622947</td>\n",
       "      <td>1.10</td>\n",
       "    </tr>\n",
       "  </tbody>\n",
       "</table>\n",
       "<p>6766618 rows × 5 columns</p>\n",
       "</div>"
      ],
      "text/plain": [
       "       q_squared  costheta_mu  costheta_K       chi   dc9\n",
       "2       6.564215     0.740818   -0.861226  3.228839 -0.01\n",
       "3       5.359132     0.101577    0.983497  3.460548 -0.01\n",
       "6       2.916781     0.408023    0.968456  1.950059 -0.01\n",
       "7       3.996172     0.358320    0.286946  2.656886 -0.01\n",
       "9       7.065142     0.801546    0.931857  0.145634 -0.01\n",
       "...          ...          ...         ...       ...   ...\n",
       "23988   7.099526     0.084240   -0.915067  1.402989  1.10\n",
       "23989   4.590474     0.762792   -0.709526  2.630846  1.10\n",
       "23994   6.122463     0.853467    0.520956  3.315593  1.10\n",
       "23995   3.332588     0.408602   -0.874146  0.691708  1.10\n",
       "23997   5.094312     0.032625   -0.879493  3.622947  1.10\n",
       "\n",
       "[6766618 rows x 5 columns]"
      ]
     },
     "execution_count": 6,
     "metadata": {},
     "output_type": "execute_result"
    }
   ],
   "source": [
    "df_gen_train_with_q2_veto"
   ]
  },
  {
   "cell_type": "code",
   "execution_count": 7,
   "metadata": {},
   "outputs": [
    {
     "data": {
      "text/html": [
       "<div>\n",
       "<style scoped>\n",
       "    .dataframe tbody tr th:only-of-type {\n",
       "        vertical-align: middle;\n",
       "    }\n",
       "\n",
       "    .dataframe tbody tr th {\n",
       "        vertical-align: top;\n",
       "    }\n",
       "\n",
       "    .dataframe thead th {\n",
       "        text-align: right;\n",
       "    }\n",
       "</style>\n",
       "<table border=\"1\" class=\"dataframe\">\n",
       "  <thead>\n",
       "    <tr style=\"text-align: right;\">\n",
       "      <th></th>\n",
       "      <th>q_squared</th>\n",
       "      <th>costheta_mu</th>\n",
       "      <th>costheta_K</th>\n",
       "      <th>chi</th>\n",
       "      <th>dc9</th>\n",
       "    </tr>\n",
       "  </thead>\n",
       "  <tbody>\n",
       "    <tr>\n",
       "      <th>0</th>\n",
       "      <td>2.923588</td>\n",
       "      <td>0.410200</td>\n",
       "      <td>0.972397</td>\n",
       "      <td>1.926879</td>\n",
       "      <td>-0.01</td>\n",
       "    </tr>\n",
       "    <tr>\n",
       "      <th>1</th>\n",
       "      <td>2.876313</td>\n",
       "      <td>-0.012163</td>\n",
       "      <td>0.395988</td>\n",
       "      <td>4.557953</td>\n",
       "      <td>-0.01</td>\n",
       "    </tr>\n",
       "    <tr>\n",
       "      <th>3</th>\n",
       "      <td>3.344651</td>\n",
       "      <td>0.174485</td>\n",
       "      <td>0.984753</td>\n",
       "      <td>1.401428</td>\n",
       "      <td>-0.01</td>\n",
       "    </tr>\n",
       "    <tr>\n",
       "      <th>6</th>\n",
       "      <td>2.509289</td>\n",
       "      <td>-0.357700</td>\n",
       "      <td>-0.718446</td>\n",
       "      <td>0.250974</td>\n",
       "      <td>-0.01</td>\n",
       "    </tr>\n",
       "    <tr>\n",
       "      <th>7</th>\n",
       "      <td>2.861786</td>\n",
       "      <td>0.209034</td>\n",
       "      <td>-0.810069</td>\n",
       "      <td>1.216712</td>\n",
       "      <td>-0.01</td>\n",
       "    </tr>\n",
       "    <tr>\n",
       "      <th>...</th>\n",
       "      <td>...</td>\n",
       "      <td>...</td>\n",
       "      <td>...</td>\n",
       "      <td>...</td>\n",
       "      <td>...</td>\n",
       "    </tr>\n",
       "    <tr>\n",
       "      <th>8974</th>\n",
       "      <td>5.816253</td>\n",
       "      <td>-0.279410</td>\n",
       "      <td>-0.099240</td>\n",
       "      <td>5.378984</td>\n",
       "      <td>1.10</td>\n",
       "    </tr>\n",
       "    <tr>\n",
       "      <th>8978</th>\n",
       "      <td>5.029454</td>\n",
       "      <td>0.906688</td>\n",
       "      <td>-0.442056</td>\n",
       "      <td>4.467977</td>\n",
       "      <td>1.10</td>\n",
       "    </tr>\n",
       "    <tr>\n",
       "      <th>8982</th>\n",
       "      <td>6.775948</td>\n",
       "      <td>-0.602947</td>\n",
       "      <td>-0.904607</td>\n",
       "      <td>3.396765</td>\n",
       "      <td>1.10</td>\n",
       "    </tr>\n",
       "    <tr>\n",
       "      <th>8988</th>\n",
       "      <td>2.921555</td>\n",
       "      <td>0.190995</td>\n",
       "      <td>0.982662</td>\n",
       "      <td>3.296196</td>\n",
       "      <td>1.10</td>\n",
       "    </tr>\n",
       "    <tr>\n",
       "      <th>8992</th>\n",
       "      <td>5.536884</td>\n",
       "      <td>0.654435</td>\n",
       "      <td>-0.825654</td>\n",
       "      <td>4.633005</td>\n",
       "      <td>1.10</td>\n",
       "    </tr>\n",
       "  </tbody>\n",
       "</table>\n",
       "<p>2052567 rows × 5 columns</p>\n",
       "</div>"
      ],
      "text/plain": [
       "      q_squared  costheta_mu  costheta_K       chi   dc9\n",
       "0      2.923588     0.410200    0.972397  1.926879 -0.01\n",
       "1      2.876313    -0.012163    0.395988  4.557953 -0.01\n",
       "3      3.344651     0.174485    0.984753  1.401428 -0.01\n",
       "6      2.509289    -0.357700   -0.718446  0.250974 -0.01\n",
       "7      2.861786     0.209034   -0.810069  1.216712 -0.01\n",
       "...         ...          ...         ...       ...   ...\n",
       "8974   5.816253    -0.279410   -0.099240  5.378984  1.10\n",
       "8978   5.029454     0.906688   -0.442056  4.467977  1.10\n",
       "8982   6.775948    -0.602947   -0.904607  3.396765  1.10\n",
       "8988   2.921555     0.190995    0.982662  3.296196  1.10\n",
       "8992   5.536884     0.654435   -0.825654  4.633005  1.10\n",
       "\n",
       "[2052567 rows x 5 columns]"
      ]
     },
     "execution_count": 7,
     "metadata": {},
     "output_type": "execute_result"
    }
   ],
   "source": [
    "df_det_train_with_q2_veto"
   ]
  },
  {
   "cell_type": "code",
   "execution_count": 8,
   "metadata": {},
   "outputs": [
    {
     "data": {
      "text/plain": [
       "q_squared      9.248781\n",
       "costheta_mu    0.151290\n",
       "costheta_K     0.000234\n",
       "chi            3.141442\n",
       "dc9           -0.436945\n",
       "dtype: float64"
      ]
     },
     "execution_count": 8,
     "metadata": {},
     "output_type": "execute_result"
    }
   ],
   "source": [
    "df_gen_train.mean()"
   ]
  },
  {
   "cell_type": "code",
   "execution_count": 9,
   "metadata": {},
   "outputs": [
    {
     "data": {
      "text/plain": [
       "q_squared      5.311177\n",
       "costheta_mu    0.524446\n",
       "costheta_K     0.635314\n",
       "chi            1.803100\n",
       "dc9            0.908739\n",
       "dtype: float64"
      ]
     },
     "execution_count": 9,
     "metadata": {},
     "output_type": "execute_result"
    }
   ],
   "source": [
    "df_gen_train.std()"
   ]
  },
  {
   "cell_type": "code",
   "execution_count": 10,
   "metadata": {},
   "outputs": [
    {
     "data": {
      "text/plain": [
       "q_squared      10.353162\n",
       "costheta_mu     0.177404\n",
       "costheta_K     -0.031136\n",
       "chi             3.141597\n",
       "dc9            -0.429798\n",
       "dtype: float64"
      ]
     },
     "execution_count": 10,
     "metadata": {},
     "output_type": "execute_result"
    }
   ],
   "source": [
    "df_det_train.mean()"
   ]
  },
  {
   "cell_type": "code",
   "execution_count": 11,
   "metadata": {},
   "outputs": [
    {
     "data": {
      "text/plain": [
       "q_squared      5.242896\n",
       "costheta_mu    0.508787\n",
       "costheta_K     0.622743\n",
       "chi            1.820018\n",
       "dc9            0.908040\n",
       "dtype: float64"
      ]
     },
     "execution_count": 11,
     "metadata": {},
     "output_type": "execute_result"
    }
   ],
   "source": [
    "df_det_train.std()"
   ]
  },
  {
   "cell_type": "code",
   "execution_count": 12,
   "metadata": {},
   "outputs": [
    {
     "data": {
      "text/plain": [
       "q_squared      4.752486\n",
       "costheta_mu    0.065137\n",
       "costheta_K     0.000146\n",
       "chi            3.141082\n",
       "dc9           -0.437289\n",
       "dtype: float64"
      ]
     },
     "execution_count": 12,
     "metadata": {},
     "output_type": "execute_result"
    }
   ],
   "source": [
    "df_gen_train_with_q2_veto.mean()"
   ]
  },
  {
   "cell_type": "code",
   "execution_count": 13,
   "metadata": {},
   "outputs": [
    {
     "data": {
      "text/plain": [
       "q_squared      2.053569\n",
       "costheta_mu    0.505880\n",
       "costheta_K     0.694362\n",
       "chi            1.811370\n",
       "dc9            0.909647\n",
       "dtype: float64"
      ]
     },
     "execution_count": 13,
     "metadata": {},
     "output_type": "execute_result"
    }
   ],
   "source": [
    "df_gen_train_with_q2_veto.std()"
   ]
  },
  {
   "cell_type": "code",
   "execution_count": 14,
   "metadata": {},
   "outputs": [
    {
     "data": {
      "text/plain": [
       "q_squared      4.943439\n",
       "costheta_mu    0.077301\n",
       "costheta_K    -0.068484\n",
       "chi            3.141730\n",
       "dc9           -0.431135\n",
       "dtype: float64"
      ]
     },
     "execution_count": 14,
     "metadata": {},
     "output_type": "execute_result"
    }
   ],
   "source": [
    "df_det_train_with_q2_veto.mean()"
   ]
  },
  {
   "cell_type": "code",
   "execution_count": 15,
   "metadata": {},
   "outputs": [
    {
     "data": {
      "text/plain": [
       "q_squared      2.030002\n",
       "costheta_mu    0.463005\n",
       "costheta_K     0.696061\n",
       "chi            1.830277\n",
       "dc9            0.909128\n",
       "dtype: float64"
      ]
     },
     "execution_count": 15,
     "metadata": {},
     "output_type": "execute_result"
    }
   ],
   "source": [
    "df_det_train_with_q2_veto.std()"
   ]
  },
  {
   "cell_type": "code",
   "execution_count": null,
   "metadata": {},
   "outputs": [],
   "source": []
  }
 ],
 "metadata": {
  "kernelspec": {
   "display_name": "maybe_ml",
   "language": "python",
   "name": "python3"
  },
  "language_info": {
   "codemirror_mode": {
    "name": "ipython",
    "version": 3
   },
   "file_extension": ".py",
   "mimetype": "text/x-python",
   "name": "python",
   "nbconvert_exporter": "python",
   "pygments_lexer": "ipython3",
   "version": "3.12.5"
  }
 },
 "nbformat": 4,
 "nbformat_minor": 2
}

{
 "cells": [
  {
   "cell_type": "markdown",
   "metadata": {},
   "source": [
    "Full thing with classes"
   ]
  },
  {
   "cell_type": "markdown",
   "metadata": {},
   "source": [
    "Setup"
   ]
  },
  {
   "cell_type": "code",
   "execution_count": null,
   "metadata": {},
   "outputs": [],
   "source": [
    "from math import sqrt\n",
    "from itertools import product\n",
    "from pathlib import Path\n",
    "\n",
    "import matplotlib.pyplot as plt\n",
    "import pandas\n",
    "\n",
    "from library.plotting import make_plot_note, setup_high_quality_mpl_params\n",
    "\n",
    "from library.approaches import (\n",
    "    Shawns_Approach,\n",
    "    Deep_Sets_Approach,\n",
    "    Event_By_Event_Approach\n",
    ")\n",
    "from library.nn_training import select_device\n",
    "from library.predict import Summary_Table\n",
    "\n",
    "setup_high_quality_mpl_params()\n",
    "\n",
    "device = select_device()\n",
    "datasets_dir = \"../../state/new_physics/data/processed\"\n",
    "models_dir = \"../../state/new_physics/models\"\n",
    "plots_dir = \"../../state/new_physics/plots\"\n",
    "summary_table = Summary_Table()\n"
   ]
  },
  {
   "cell_type": "code",
   "execution_count": null,
   "metadata": {},
   "outputs": [],
   "source": [
    "shawns_approach_gen = Shawns_Approach(\n",
    "    device,\n",
    "    \"gen\",\n",
    "    datasets_dir,\n",
    "    models_dir,\n",
    "    plots_dir,\n",
    "    summary_table,\n",
    "    regenerate_datasets=False,\n",
    "    retrain_models=False,            \n",
    ")"
   ]
  },
  {
   "cell_type": "code",
   "execution_count": null,
   "metadata": {},
   "outputs": [],
   "source": [
    "shawns_approach_det = Shawns_Approach(\n",
    "    device,\n",
    "    \"det\",\n",
    "    datasets_dir,\n",
    "    models_dir,\n",
    "    plots_dir,\n",
    "    summary_table,\n",
    "    regenerate_datasets=False,\n",
    "    retrain_models=False,            \n",
    ")"
   ]
  },
  {
   "cell_type": "code",
   "execution_count": null,
   "metadata": {},
   "outputs": [],
   "source": [
    "shawns_approach_gen_no_q2_veto = Shawns_Approach(\n",
    "    device,\n",
    "    \"gen\",\n",
    "    datasets_dir,\n",
    "    models_dir,\n",
    "    plots_dir,\n",
    "    summary_table,\n",
    "    q_squared_veto=False,\n",
    "    regenerate_datasets=False,\n",
    "    retrain_models=False,            \n",
    ")"
   ]
  },
  {
   "cell_type": "code",
   "execution_count": null,
   "metadata": {},
   "outputs": [],
   "source": [
    "shawns_approach_det_no_q2_veto = Shawns_Approach(\n",
    "    device,\n",
    "    \"det\",\n",
    "    datasets_dir,\n",
    "    models_dir,\n",
    "    plots_dir,\n",
    "    summary_table,\n",
    "    q_squared_veto=False,\n",
    "    regenerate_datasets=False,\n",
    "    retrain_models=False,            \n",
    ")"
   ]
  },
  {
   "cell_type": "code",
   "execution_count": null,
   "metadata": {},
   "outputs": [],
   "source": [
    "deep_sets_approach_gen = Deep_Sets_Approach(\n",
    "    device,\n",
    "    \"gen\",\n",
    "    datasets_dir,\n",
    "    models_dir,\n",
    "    plots_dir,\n",
    "    summary_table,\n",
    "    regenerate_datasets=False,\n",
    "    retrain_models=False,\n",
    ")"
   ]
  },
  {
   "cell_type": "code",
   "execution_count": null,
   "metadata": {},
   "outputs": [],
   "source": [
    "deep_sets_approach_det = Deep_Sets_Approach(\n",
    "    device,\n",
    "    \"det\",\n",
    "    datasets_dir,\n",
    "    models_dir,\n",
    "    plots_dir,\n",
    "    summary_table,\n",
    "    regenerate_datasets=False,\n",
    "    retrain_models=False,\n",
    ")"
   ]
  },
  {
   "cell_type": "code",
   "execution_count": null,
   "metadata": {},
   "outputs": [],
   "source": [
    "deep_sets_approach_gen_no_q2_veto = Deep_Sets_Approach(\n",
    "    device,\n",
    "    \"gen\",\n",
    "    datasets_dir,\n",
    "    models_dir,\n",
    "    plots_dir,\n",
    "    summary_table,\n",
    "    q_squared_veto=False,\n",
    "    regenerate_datasets=False,\n",
    "    retrain_models=False,\n",
    ")"
   ]
  },
  {
   "cell_type": "code",
   "execution_count": null,
   "metadata": {},
   "outputs": [],
   "source": [
    "deep_sets_approach_det_no_q2_veto = Deep_Sets_Approach(\n",
    "    device,\n",
    "    \"det\",\n",
    "    datasets_dir,\n",
    "    models_dir,\n",
    "    plots_dir,\n",
    "    summary_table,\n",
    "    q_squared_veto=False,\n",
    "    regenerate_datasets=False,\n",
    "    retrain_models=False,\n",
    ")"
   ]
  },
  {
   "cell_type": "code",
   "execution_count": null,
   "metadata": {},
   "outputs": [],
   "source": [
    "event_by_event_approach_gen = Event_By_Event_Approach(\n",
    "    device,\n",
    "    \"gen\",\n",
    "    datasets_dir,\n",
    "    models_dir,\n",
    "    plots_dir,\n",
    "    summary_table,\n",
    "    regenerate_datasets=False,\n",
    "    retrain_model=False,\n",
    ")"
   ]
  },
  {
   "cell_type": "code",
   "execution_count": null,
   "metadata": {},
   "outputs": [],
   "source": [
    "event_by_event_approach_det = Event_By_Event_Approach(\n",
    "    device,\n",
    "    \"det\",\n",
    "    datasets_dir,\n",
    "    models_dir,\n",
    "    plots_dir,\n",
    "    summary_table,\n",
    "    regenerate_datasets=False,\n",
    "    retrain_model=False,\n",
    ")"
   ]
  },
  {
   "cell_type": "code",
   "execution_count": null,
   "metadata": {},
   "outputs": [],
   "source": [
    "event_by_event_approach_det_no_q2_veto = Event_By_Event_Approach(\n",
    "    device,\n",
    "    \"det\",\n",
    "    datasets_dir,\n",
    "    models_dir,\n",
    "    plots_dir,\n",
    "    summary_table,\n",
    "    q_squared_veto=False,\n",
    "    regenerate_datasets=False,\n",
    "    retrain_model=False,\n",
    ")"
   ]
  },
  {
   "cell_type": "code",
   "execution_count": null,
   "metadata": {},
   "outputs": [],
   "source": [
    "event_by_event_approach_gen_no_q2_veto = Event_By_Event_Approach(\n",
    "    device,\n",
    "    \"gen\",\n",
    "    datasets_dir,\n",
    "    models_dir,\n",
    "    plots_dir,\n",
    "    summary_table,\n",
    "    q_squared_veto=False,\n",
    "    regenerate_datasets=False,\n",
    "    retrain_model=False,\n",
    ")"
   ]
  },
  {
   "cell_type": "code",
   "execution_count": null,
   "metadata": {},
   "outputs": [],
   "source": [
    "summary_table.table"
   ]
  },
  {
   "cell_type": "code",
   "execution_count": null,
   "metadata": {},
   "outputs": [],
   "source": [
    "print(\n",
    "    summary_table.table[[\"MSE\", \"MAE\",]]\n",
    "    .to_latex(float_format=\"%.3f\")\n",
    ")\n",
    "\n",
    "print('\\n')\n",
    "\n",
    "print(\n",
    "    summary_table.table[[\"Std. at NP\", \"Bias at NP\"]]\n",
    "    .to_latex(float_format=\"%.3f\")\n",
    ")"
   ]
  },
  {
   "cell_type": "code",
   "execution_count": null,
   "metadata": {},
   "outputs": [],
   "source": [
    "num_sets_for_sensitivity = 2000\n",
    "num_sets_for_non_sensitivity = 44*50\n",
    "\n",
    "levels = [\"det\", \"gen\"]\n",
    "q_2_vetos = [True, False]\n",
    "methods = [\"Images\", \"Deep Sets\", \"Event by event\"]\n",
    "colors = ['#984ea3', '#999999', '#4daf4a',]\n",
    "markers = [\"o\", \"^\", \"s\"]\n",
    "\n",
    "y_lims = [(0, 0.18), (0, None), (0, 0.45), (-1, -0.7), (-0.15, 0.15)]\n",
    "\n",
    "for col, y_lim in zip(summary_table.table.columns, y_lims):\n",
    "\n",
    "    fig, ax = plt.subplots()\n",
    "    \n",
    "    for (method, color, marker), level, q_2_veto in product(zip(methods, colors, markers), levels, q_2_vetos):\n",
    "\n",
    "        # if (method != \"Images\") and (method != \"Deep Sets\"):\n",
    "        #     continue\n",
    "\n",
    "        # if level == \"gen\" and not q_2_veto:\n",
    "        #     continue\n",
    "   \n",
    "        y = summary_table.table.loc[pandas.IndexSlice[level, q_2_veto, method], col]\n",
    "        x = y.index\n",
    "        linestyle = \"--\"+marker if level==\"det\" else \"-\"+marker\n",
    "        if level==\"det\" and not q_2_veto: linestyle = \":\"+marker\n",
    "        if level==\"gen\" and not q_2_veto: linestyle = \"-.\"+marker\n",
    "        ax.plot(x, y, linestyle, label=f\"{method}, {level}, veto: {q_2_veto}\", c=color, markersize=5, alpha=.8)\n",
    "        if (col==\"Bias at NP\") or (col==\"Mean at NP\"):\n",
    "            errors = (\n",
    "                summary_table.table.loc[pandas.IndexSlice[level, q_2_veto, method], \"Std. at NP\"] \n",
    "                / sqrt(num_sets_for_sensitivity)\n",
    "            )\n",
    "            ax.errorbar(x=x, y=y, yerr=errors, fmt='none', elinewidth=0.5, capsize=0.5, color=\"black\",)\n",
    "\n",
    "        ax.set_ylim(y_lim)\n",
    "        ax.set_ylabel(f\"{col}\")\n",
    "        ax.set_xlabel(\"Number of events / set\")\n",
    "        ax.legend(ncols=2, markerscale=0.5, numpoints=1)\n",
    "        if (col==\"Bias at NP\") or (col==\"Mean at NP\") or (col==\"Std. at NP\"):\n",
    "            make_plot_note(ax, f\"Num boots.: {num_sets_for_sensitivity}\", fontsize=\"large\")\n",
    "        else: make_plot_note(ax, f\"Num boots.: {num_sets_for_non_sensitivity}\", fontsize=\"large\")\n",
    "\n",
    "    file_name = f\"comp_{col}.png\"\n",
    "    file_path = Path(plots_dir).joinpath(file_name)\n",
    "    plt.savefig(file_path, bbox_inches=\"tight\")\n",
    "\n",
    "    plt.show()\n",
    "    plt.close()\n"
   ]
  },
  {
   "cell_type": "code",
   "execution_count": null,
   "metadata": {},
   "outputs": [],
   "source": [
    "# counting parameters:\n",
    "\n",
    "def count_model_trainable_params(model):\n",
    "    num_params = sum(p.numel() for p in model.parameters() if p.requires_grad)\n",
    "    return num_params\n",
    "\n",
    "print(\n",
    "    \"Images approach: \",\n",
    "    count_model_trainable_params(shawns_approach_gen.models[70_000])\n",
    ")\n",
    "print(\n",
    "    \"Deep Sets approach: \",\n",
    "    count_model_trainable_params(deep_sets_approach_gen.models[70_000])\n",
    ")\n",
    "print(\n",
    "    \"Event-by-event approach: \",\n",
    "    count_model_trainable_params(event_by_event_approach_gen.model)\n",
    ")"
   ]
  },
  {
   "cell_type": "code",
   "execution_count": null,
   "metadata": {},
   "outputs": [],
   "source": []
  }
 ],
 "metadata": {
  "kernelspec": {
   "display_name": "maybe_ml",
   "language": "python",
   "name": "python3"
  },
  "language_info": {
   "codemirror_mode": {
    "name": "ipython",
    "version": 3
   },
   "file_extension": ".py",
   "mimetype": "text/x-python",
   "name": "python",
   "nbconvert_exporter": "python",
   "pygments_lexer": "ipython3",
   "version": "3.12.5"
  }
 },
 "nbformat": 4,
 "nbformat_minor": 2
}

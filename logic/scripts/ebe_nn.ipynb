{
 "cells": [
  {
   "cell_type": "markdown",
   "metadata": {},
   "source": [
    "Training a neural network to predict $\\delta C_9$ on an event-by-event basis"
   ]
  },
  {
   "cell_type": "markdown",
   "metadata": {},
   "source": [
    "Import Libraries"
   ]
  },
  {
   "cell_type": "code",
   "execution_count": 9,
   "metadata": {},
   "outputs": [],
   "source": [
    "from matplotlib import pyplot as plt\n",
    "\n",
    "import torch\n",
    "from torch import nn\n",
    "from torch.optim import Adam\n",
    "from torch.nn import CrossEntropyLoss\n",
    "\n",
    "from library.nn_training import train_and_eval, select_device\n",
    "from library.plotting import plot_loss_curves\n",
    "from library.datasets import Aggregated_Signal_Binned_Dataset"
   ]
  },
  {
   "cell_type": "markdown",
   "metadata": {},
   "source": [
    "Define Model"
   ]
  },
  {
   "cell_type": "code",
   "execution_count": 10,
   "metadata": {},
   "outputs": [],
   "source": [
    "class Event_By_Event_NN(nn.Module):\n",
    "    def __init__(self):\n",
    "        super().__init__()\n",
    "\n",
    "        self.layers = nn.Sequential(\n",
    "            nn.Linear(4, 64),\n",
    "            nn.ReLU(),\n",
    "            nn.Linear(64, 64),\n",
    "            nn.ReLU(),\n",
    "            nn.Linear(64, 64),\n",
    "            nn.ReLU(),\n",
    "            nn.Linear(64, 44)\n",
    "         )\n",
    "        \n",
    "        self.double()\n",
    "\n",
    "    def forward(self, x):\n",
    "        result = self.layers(x)\n",
    "        return result"
   ]
  },
  {
   "cell_type": "markdown",
   "metadata": {},
   "source": [
    "Select Device"
   ]
  },
  {
   "cell_type": "code",
   "execution_count": 11,
   "metadata": {},
   "outputs": [
    {
     "name": "stdout",
     "output_type": "stream",
     "text": [
      "Device:  cuda\n"
     ]
    }
   ],
   "source": [
    "device = select_device()"
   ]
  },
  {
   "cell_type": "markdown",
   "metadata": {},
   "source": [
    "Load / Generate Datasets"
   ]
  },
  {
   "cell_type": "code",
   "execution_count": 12,
   "metadata": {},
   "outputs": [],
   "source": [
    "level = \"gen\"\n",
    "save_dir = \"../../state/new_physics/data/processed\"\n",
    "raw_signal_dir = \"../../state/new_physics/data/raw/signal\"\n",
    "\n",
    "train_dataset = Aggregated_Signal_Binned_Dataset(level=level, split=\"train\", raw_trials=range(1,5), save_dir=save_dir)\n",
    "train_dataset.generate(raw_signal_dir)\n",
    "train_dataset.load()\n",
    "train_dataset.to(device)\n",
    "\n",
    "eval_dataset = Aggregated_Signal_Binned_Dataset(level=level, split=\"eval\", raw_trials=range(5,6), save_dir=save_dir)\n",
    "eval_dataset.generate(raw_signal_dir)\n",
    "eval_dataset.load()\n",
    "eval_dataset.to(device)\n"
   ]
  },
  {
   "cell_type": "code",
   "execution_count": null,
   "metadata": {},
   "outputs": [],
   "source": [
    "eval_dataset.df[\"dc9_bin_index\"].value_counts()"
   ]
  },
  {
   "cell_type": "markdown",
   "metadata": {},
   "source": [
    "Train Model"
   ]
  },
  {
   "cell_type": "code",
   "execution_count": 14,
   "metadata": {},
   "outputs": [
    {
     "name": "stdout",
     "output_type": "stream",
     "text": [
      "\n",
      "epoch 0 complete:\n",
      "    Train loss: 3.780699174671356\n",
      "    Eval loss: 3.7789987744187314\n",
      "\n",
      "peak gpu memory usage: 0.06842 GB\n",
      "\n",
      "epoch 1 complete:\n",
      "    Train loss: 3.779076131795635\n",
      "    Eval loss: 3.7791083174461395\n",
      "\n",
      "peak gpu memory usage: 0.06842 GB\n",
      "\n",
      "epoch 2 complete:\n",
      "    Train loss: 3.7788234584522926\n",
      "    Eval loss: 3.7785885022737307\n",
      "\n",
      "peak gpu memory usage: 0.06842 GB\n",
      "\n",
      "epoch 3 complete:\n",
      "    Train loss: 3.778664805319727\n",
      "    Eval loss: 3.7784009708109854\n",
      "\n",
      "peak gpu memory usage: 0.06842 GB\n",
      "\n",
      "epoch 4 complete:\n",
      "    Train loss: 3.778550225790082\n",
      "    Eval loss: 3.7784193581782324\n",
      "\n",
      "peak gpu memory usage: 0.06842 GB\n",
      "\n",
      "epoch 5 complete:\n",
      "    Train loss: 3.77845924720654\n",
      "    Eval loss: 3.7783955656171706\n",
      "\n",
      "peak gpu memory usage: 0.06842 GB\n",
      "\n",
      "epoch 6 complete:\n",
      "    Train loss: 3.7783647480109033\n",
      "    Eval loss: 3.778484282047613\n",
      "\n",
      "peak gpu memory usage: 0.06842 GB\n",
      "\n",
      "epoch 7 complete:\n",
      "    Train loss: 3.7782834697597165\n",
      "    Eval loss: 3.7785475597725737\n",
      "\n",
      "peak gpu memory usage: 0.06842 GB\n",
      "\n",
      "epoch 8 complete:\n",
      "    Train loss: 3.7782527889282567\n",
      "    Eval loss: 3.778492416480696\n",
      "\n",
      "peak gpu memory usage: 0.06842 GB\n",
      "\n",
      "epoch 9 complete:\n",
      "    Train loss: 3.7781595203505183\n",
      "    Eval loss: 3.7786513371145216\n",
      "\n",
      "peak gpu memory usage: 0.06842 GB\n"
     ]
    }
   ],
   "source": [
    "learning_rate = 3e-4\n",
    "epochs = 10\n",
    "train_batch_size = 32\n",
    "eval_batch_size = 32\n",
    "model = Event_By_Event_NN()\n",
    "loss_fn = CrossEntropyLoss()\n",
    "optimizer = Adam(model.parameters(), lr=learning_rate)\n",
    "\n",
    "loss_table = train_and_eval(model, train_dataset, eval_dataset, loss_fn, optimizer, epochs, train_batch_size, eval_batch_size, device, move_data=False)"
   ]
  },
  {
   "cell_type": "code",
   "execution_count": 15,
   "metadata": {},
   "outputs": [
    {
     "data": {
      "image/png": "[encoded data removed]",
      "text/plain": [
       "<Figure size 640x480 with 1 Axes>"
      ]
     },
     "metadata": {},
     "output_type": "display_data"
    }
   ],
   "source": [
    "_, ax = plt.subplots()\n",
    "\n",
    "plot_loss_curves(loss_table[\"epoch\"], loss_table[\"train_loss\"], loss_table[\"eval_loss\"], ax)\n",
    "\n",
    "plt.show()"
   ]
  },
  {
   "cell_type": "code",
   "execution_count": null,
   "metadata": {},
   "outputs": [],
   "source": []
  }
 ],
 "metadata": {
  "kernelspec": {
   "display_name": "maybe_ml",
   "language": "python",
   "name": "python3"
  },
  "language_info": {
   "codemirror_mode": {
    "name": "ipython",
    "version": 3
   },
   "file_extension": ".py",
   "mimetype": "text/x-python",
   "name": "python",
   "nbconvert_exporter": "python",
   "pygments_lexer": "ipython3",
   "version": "3.12.5"
  }
 },
 "nbformat": 4,
 "nbformat_minor": 2
}

{
 "cells": [
  {
   "cell_type": "markdown",
   "metadata": {},
   "source": [
    "Notebook to test random stuff"
   ]
  },
  {
   "cell_type": "code",
   "execution_count": 1,
   "metadata": {},
   "outputs": [],
   "source": [
    "import pandas as pd \n",
    "import numpy as np\n",
    "import torch\n",
    "from torch.utils.data import Dataset\n",
    "from torch import nn\n",
    "\n",
    "from library.util import bootstrap_labeled_sets\n",
    "from library.datasets import Binned_Signal_Dataset"
   ]
  },
  {
   "cell_type": "code",
   "execution_count": 2,
   "metadata": {},
   "outputs": [
    {
     "name": "stdout",
     "output_type": "stream",
     "text": [
      "Loaded features of shape: torch.Size([333212, 4]).\n",
      "Loaded labels of shape: torch.Size([333212]).\n",
      "Loaded bin values of shape: torch.Size([44]).\n"
     ]
    }
   ],
   "source": [
    "dset = Binned_Signal_Dataset(\n",
    "    name=\"test_test\", \n",
    "    level=\"gen\", \n",
    "    split=\"train\", \n",
    "    save_dir=\"../../state/new_physics/data/processed\",\n",
    ")\n",
    "\n",
    "regenerate = False\n",
    "if regenerate:\n",
    "    dset.generate(\n",
    "        raw_trials=range(1,2), \n",
    "        raw_signal_dir=\"../../state/new_physics/data/raw/signal\",\n",
    "        q_squared_veto=True,\n",
    "        std_scale=True,\n",
    "        balanced_classes=True,\n",
    "        shuffle=True,\n",
    "    )\n",
    "\n",
    "dset.load()"
   ]
  },
  {
   "cell_type": "code",
   "execution_count": 4,
   "metadata": {},
   "outputs": [
    {
     "data": {
      "text/plain": [
       "(tensor([[[-1.2115e+00,  1.0814e+00,  2.7655e-01,  1.4463e+00],\n",
       "          [ 1.0363e+00,  1.5488e+00, -3.1950e-01, -1.1397e+00],\n",
       "          [ 1.2986e+00,  1.3864e+00, -1.2947e+00, -1.2184e+00],\n",
       "          [ 2.6042e-01, -7.6073e-01, -8.7166e-01, -8.4121e-01]],\n",
       " \n",
       "         [[ 7.5175e-01, -3.8344e-01, -8.4719e-01,  1.0520e+00],\n",
       "          [-5.9420e-01, -5.4488e-01, -4.4963e-01, -1.5366e+00],\n",
       "          [-1.6558e+00,  1.1293e+00,  1.1558e+00,  1.6752e+00],\n",
       "          [-5.5138e-01,  1.1689e+00,  8.1983e-01, -1.5382e+00]],\n",
       " \n",
       "         [[-1.7240e+00,  1.0200e+00,  1.1841e+00, -1.7235e+00],\n",
       "          [ 1.5617e+00,  4.5351e-01,  1.0105e+00,  1.4910e+00],\n",
       "          [ 1.4340e+00,  2.5806e-01, -1.4029e+00,  1.5940e+00],\n",
       "          [-1.4707e+00, -1.2183e+00, -1.1384e+00,  1.1252e+00]],\n",
       " \n",
       "         ...,\n",
       " \n",
       "         [[ 9.0420e-01, -6.8042e-01, -1.3912e+00,  1.6463e+00],\n",
       "          [ 1.3927e+00, -2.3203e-01, -6.9661e-01, -1.5294e+00],\n",
       "          [-2.0110e-01, -7.0858e-01, -1.2647e+00,  6.7458e-01],\n",
       "          [-1.2494e+00, -9.9241e-01,  7.6365e-01,  2.1173e-01]],\n",
       " \n",
       "         [[ 9.6894e-01, -3.2767e-01,  6.9791e-01, -1.1279e+00],\n",
       "          [ 1.0840e+00, -1.2629e-03, -7.2960e-01, -1.2648e+00],\n",
       "          [-1.0952e+00,  7.2621e-01, -9.8111e-01,  4.7109e-01],\n",
       "          [-9.4512e-01,  4.3771e-01,  1.3757e+00,  1.1036e-01]],\n",
       " \n",
       "         [[ 8.6032e-01,  2.3342e-01, -9.6997e-01,  1.0035e+00],\n",
       "          [ 8.1355e-01, -3.9366e-02, -8.8642e-01, -1.5672e+00],\n",
       "          [-1.5423e-01,  3.3641e-01, -1.4246e+00,  1.7234e+00],\n",
       "          [ 9.8196e-01, -6.0360e-01,  9.2431e-01, -3.1464e-01]]],\n",
       "        dtype=torch.float64),\n",
       " tensor([[ 0,  0,  0,  0],\n",
       "         [ 0,  0,  0,  0],\n",
       "         [ 0,  0,  0,  0],\n",
       "         [ 1,  1,  1,  1],\n",
       "         [ 1,  1,  1,  1],\n",
       "         [ 1,  1,  1,  1],\n",
       "         [ 2,  2,  2,  2],\n",
       "         [ 2,  2,  2,  2],\n",
       "         [ 2,  2,  2,  2],\n",
       "         [ 3,  3,  3,  3],\n",
       "         [ 3,  3,  3,  3],\n",
       "         [ 3,  3,  3,  3],\n",
       "         [ 4,  4,  4,  4],\n",
       "         [ 4,  4,  4,  4],\n",
       "         [ 4,  4,  4,  4],\n",
       "         [ 5,  5,  5,  5],\n",
       "         [ 5,  5,  5,  5],\n",
       "         [ 5,  5,  5,  5],\n",
       "         [ 6,  6,  6,  6],\n",
       "         [ 6,  6,  6,  6],\n",
       "         [ 6,  6,  6,  6],\n",
       "         [ 7,  7,  7,  7],\n",
       "         [ 7,  7,  7,  7],\n",
       "         [ 7,  7,  7,  7],\n",
       "         [ 8,  8,  8,  8],\n",
       "         [ 8,  8,  8,  8],\n",
       "         [ 8,  8,  8,  8],\n",
       "         [ 9,  9,  9,  9],\n",
       "         [ 9,  9,  9,  9],\n",
       "         [ 9,  9,  9,  9],\n",
       "         [10, 10, 10, 10],\n",
       "         [10, 10, 10, 10],\n",
       "         [10, 10, 10, 10],\n",
       "         [11, 11, 11, 11],\n",
       "         [11, 11, 11, 11],\n",
       "         [11, 11, 11, 11],\n",
       "         [12, 12, 12, 12],\n",
       "         [12, 12, 12, 12],\n",
       "         [12, 12, 12, 12],\n",
       "         [13, 13, 13, 13],\n",
       "         [13, 13, 13, 13],\n",
       "         [13, 13, 13, 13],\n",
       "         [14, 14, 14, 14],\n",
       "         [14, 14, 14, 14],\n",
       "         [14, 14, 14, 14],\n",
       "         [15, 15, 15, 15],\n",
       "         [15, 15, 15, 15],\n",
       "         [15, 15, 15, 15],\n",
       "         [16, 16, 16, 16],\n",
       "         [16, 16, 16, 16],\n",
       "         [16, 16, 16, 16],\n",
       "         [17, 17, 17, 17],\n",
       "         [17, 17, 17, 17],\n",
       "         [17, 17, 17, 17],\n",
       "         [18, 18, 18, 18],\n",
       "         [18, 18, 18, 18],\n",
       "         [18, 18, 18, 18],\n",
       "         [19, 19, 19, 19],\n",
       "         [19, 19, 19, 19],\n",
       "         [19, 19, 19, 19],\n",
       "         [20, 20, 20, 20],\n",
       "         [20, 20, 20, 20],\n",
       "         [20, 20, 20, 20],\n",
       "         [21, 21, 21, 21],\n",
       "         [21, 21, 21, 21],\n",
       "         [21, 21, 21, 21],\n",
       "         [22, 22, 22, 22],\n",
       "         [22, 22, 22, 22],\n",
       "         [22, 22, 22, 22],\n",
       "         [23, 23, 23, 23],\n",
       "         [23, 23, 23, 23],\n",
       "         [23, 23, 23, 23],\n",
       "         [24, 24, 24, 24],\n",
       "         [24, 24, 24, 24],\n",
       "         [24, 24, 24, 24],\n",
       "         [25, 25, 25, 25],\n",
       "         [25, 25, 25, 25],\n",
       "         [25, 25, 25, 25],\n",
       "         [26, 26, 26, 26],\n",
       "         [26, 26, 26, 26],\n",
       "         [26, 26, 26, 26],\n",
       "         [27, 27, 27, 27],\n",
       "         [27, 27, 27, 27],\n",
       "         [27, 27, 27, 27],\n",
       "         [28, 28, 28, 28],\n",
       "         [28, 28, 28, 28],\n",
       "         [28, 28, 28, 28],\n",
       "         [29, 29, 29, 29],\n",
       "         [29, 29, 29, 29],\n",
       "         [29, 29, 29, 29],\n",
       "         [30, 30, 30, 30],\n",
       "         [30, 30, 30, 30],\n",
       "         [30, 30, 30, 30],\n",
       "         [31, 31, 31, 31],\n",
       "         [31, 31, 31, 31],\n",
       "         [31, 31, 31, 31],\n",
       "         [32, 32, 32, 32],\n",
       "         [32, 32, 32, 32],\n",
       "         [32, 32, 32, 32],\n",
       "         [33, 33, 33, 33],\n",
       "         [33, 33, 33, 33],\n",
       "         [33, 33, 33, 33],\n",
       "         [34, 34, 34, 34],\n",
       "         [34, 34, 34, 34],\n",
       "         [34, 34, 34, 34],\n",
       "         [35, 35, 35, 35],\n",
       "         [35, 35, 35, 35],\n",
       "         [35, 35, 35, 35],\n",
       "         [36, 36, 36, 36],\n",
       "         [36, 36, 36, 36],\n",
       "         [36, 36, 36, 36],\n",
       "         [37, 37, 37, 37],\n",
       "         [37, 37, 37, 37],\n",
       "         [37, 37, 37, 37],\n",
       "         [38, 38, 38, 38],\n",
       "         [38, 38, 38, 38],\n",
       "         [38, 38, 38, 38],\n",
       "         [39, 39, 39, 39],\n",
       "         [39, 39, 39, 39],\n",
       "         [39, 39, 39, 39],\n",
       "         [40, 40, 40, 40],\n",
       "         [40, 40, 40, 40],\n",
       "         [40, 40, 40, 40],\n",
       "         [41, 41, 41, 41],\n",
       "         [41, 41, 41, 41],\n",
       "         [41, 41, 41, 41],\n",
       "         [42, 42, 42, 42],\n",
       "         [42, 42, 42, 42],\n",
       "         [42, 42, 42, 42],\n",
       "         [43, 43, 43, 43],\n",
       "         [43, 43, 43, 43],\n",
       "         [43, 43, 43, 43]]))"
      ]
     },
     "execution_count": 4,
     "metadata": {},
     "output_type": "execute_result"
    }
   ],
   "source": [
    "bootstrap_labeled_sets(dset.features, dset.labels, 4, 3, reduce_labels=False)"
   ]
  },
  {
   "cell_type": "code",
   "execution_count": 2,
   "metadata": {},
   "outputs": [],
   "source": [
    "a = torch.tensor([0,1,2])"
   ]
  },
  {
   "cell_type": "code",
   "execution_count": 3,
   "metadata": {},
   "outputs": [
    {
     "data": {
      "text/plain": [
       "tensor([0, 1, 2])"
      ]
     },
     "execution_count": 3,
     "metadata": {},
     "output_type": "execute_result"
    }
   ],
   "source": [
    "a"
   ]
  },
  {
   "cell_type": "code",
   "execution_count": 7,
   "metadata": {},
   "outputs": [
    {
     "data": {
      "text/plain": [
       "torch.Size([1, 1, 3])"
      ]
     },
     "execution_count": 7,
     "metadata": {},
     "output_type": "execute_result"
    }
   ],
   "source": [
    "a.unsqueeze(0).unsqueeze(0).shape"
   ]
  },
  {
   "cell_type": "code",
   "execution_count": 8,
   "metadata": {},
   "outputs": [],
   "source": [
    "from library.datasets import make_image"
   ]
  },
  {
   "cell_type": "code",
   "execution_count": 26,
   "metadata": {},
   "outputs": [
    {
     "data": {
      "text/plain": [
       "tensor([[ 1.0000, -0.5000,  0.5000,  2.0000],\n",
       "        [ 2.0000, -0.5000,  0.5000,  1.0000],\n",
       "        [ 2.0000,  1.0000,  1.0000,  6.0000]])"
      ]
     },
     "execution_count": 26,
     "metadata": {},
     "output_type": "execute_result"
    }
   ],
   "source": [
    "feat = torch.tensor([[1,-0.5,0.5,2], [2,-0.5,0.5,1], [2,1,1,6]])\n",
    "feat"
   ]
  },
  {
   "cell_type": "code",
   "execution_count": 28,
   "metadata": {},
   "outputs": [
    {
     "data": {
      "text/plain": [
       "tensor([[[0.0000, 0.0000],\n",
       "         [1.5000, 0.0000]],\n",
       "\n",
       "        [[0.0000, 0.0000],\n",
       "         [0.0000, 2.0000]]], dtype=torch.float64)"
      ]
     },
     "execution_count": 28,
     "metadata": {},
     "output_type": "execute_result"
    }
   ],
   "source": [
    "torch.nan_to_num(make_image(feat.numpy(), n_bins=2))"
   ]
  },
  {
   "cell_type": "code",
   "execution_count": 2,
   "metadata": {},
   "outputs": [],
   "source": [
    "a = torch.tensor([1,2,1,2,3,3])"
   ]
  },
  {
   "cell_type": "code",
   "execution_count": 7,
   "metadata": {},
   "outputs": [
    {
     "data": {
      "text/plain": [
       "tensor([True, True, True, True, True])"
      ]
     },
     "execution_count": 7,
     "metadata": {},
     "output_type": "execute_result"
    }
   ],
   "source": [
    "a == a[0]"
   ]
  },
  {
   "cell_type": "code",
   "execution_count": 3,
   "metadata": {},
   "outputs": [],
   "source": [
    "from library.util import get_num_per_unique_label"
   ]
  },
  {
   "cell_type": "code",
   "execution_count": 4,
   "metadata": {},
   "outputs": [
    {
     "data": {
      "text/plain": [
       "2"
      ]
     },
     "execution_count": 4,
     "metadata": {},
     "output_type": "execute_result"
    }
   ],
   "source": [
    "get_num_per_unique_label(a)"
   ]
  },
  {
   "cell_type": "code",
   "execution_count": 9,
   "metadata": {},
   "outputs": [],
   "source": [
    "d = {80_000 : \"a\", 20 : \"b\"}"
   ]
  },
  {
   "cell_type": "code",
   "execution_count": 15,
   "metadata": {},
   "outputs": [
    {
     "data": {
      "text/plain": [
       "{2: 4, 4: 8, 6: 12}"
      ]
     },
     "execution_count": 15,
     "metadata": {},
     "output_type": "execute_result"
    }
   ],
   "source": [
    "d = {i : 2*i for i in [2,4,6]}\n",
    "d\n"
   ]
  },
  {
   "cell_type": "code",
   "execution_count": null,
   "metadata": {},
   "outputs": [],
   "source": []
  }
 ],
 "metadata": {
  "kernelspec": {
   "display_name": "maybe_ml",
   "language": "python",
   "name": "python3"
  },
  "language_info": {
   "codemirror_mode": {
    "name": "ipython",
    "version": 3
   },
   "file_extension": ".py",
   "mimetype": "text/x-python",
   "name": "python",
   "nbconvert_exporter": "python",
   "pygments_lexer": "ipython3",
   "version": "3.12.5"
  }
 },
 "nbformat": 4,
 "nbformat_minor": 2
}

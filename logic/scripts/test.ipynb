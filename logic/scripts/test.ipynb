{
 "cells": [
  {
   "cell_type": "code",
   "execution_count": null,
   "id": "afa07484",
   "metadata": {},
   "outputs": [],
   "source": [
    "\n",
    "\n",
    "import pathlib\n",
    "\n",
    "\n",
    "class Config_Dataset_Common:\n",
    "\n",
    "    def __init__(\n",
    "        self,\n",
    "        name:str,\n",
    "        level:str,\n",
    "        q_squared_veto:str,\n",
    "        balanced_classes:bool,\n",
    "        std_scale:bool,\n",
    "        split:str,\n",
    "        path_dir_dsets_main:str|pathlib.Path,\n",
    "        path_dir_raw_signal:str|pathlib.Path,\n",
    "        shuffle:bool,\n",
    "        path_dir_raw_bkg:str,\n",
    "        label_subset:str|list[float]=None,\n",
    "    ):\n",
    "        pass\n",
    "\n",
    "\n",
    "class Config_Dataset:\n",
    "\n",
    "    def __init__(\n",
    "        self,\n",
    "        common_configs,\n",
    "        \n",
    "    ):\n",
    "        pass\n",
    "\n",
    "\n",
    "\n",
    "class Config_Experiment:\n",
    "\n",
    "    def __init__(\n",
    "        self,\n",
    "        name,\n",
    "        level,\n",
    "        q_squared_veto,\n",
    "        balanced_classes,\n",
    "        std_scale,\n",
    "        split,\n",
    "\n",
    "    ):\n",
    "        pass"
   ]
  }
 ],
 "metadata": {
  "kernelspec": {
   "display_name": "ml3",
   "language": "python",
   "name": "python3"
  },
  "language_info": {
   "codemirror_mode": {
    "name": "ipython",
    "version": 3
   },
   "file_extension": ".py",
   "mimetype": "text/x-python",
   "name": "python",
   "nbconvert_exporter": "python",
   "pygments_lexer": "ipython3",
   "version": "3.13.5"
  }
 },
 "nbformat": 4,
 "nbformat_minor": 5
}

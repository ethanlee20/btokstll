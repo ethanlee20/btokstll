{
 "cells": [
  {
   "cell_type": "code",
   "execution_count": null,
   "id": "afa07484",
   "metadata": {},
   "outputs": [],
   "source": [
    "import pathlib\n",
    "\n",
    "\n",
    "class Config_Dataset_Unbinned_Sets:\n",
    "\n",
    "    def __init__(\n",
    "        self,\n",
    "        level,\n",
    "        split,\n",
    "        num_events_per_set,\n",
    "        num_sets_per_label,\n",
    "        q_squared_veto,\n",
    "        balanced_classes,\n",
    "        std_scale,\n",
    "        shuffle,\n",
    "        path_dir_dsets_main,\n",
    "        path_dir_raw_signal,\n",
    "        label_subset=None,\n",
    "        is_sensitivity_dataset=False,\n",
    "        frac_bkg=None,\n",
    "        path_dir_raw_bkg=None,\n",
    "    ):\n",
    "        \n",
    "        self.level = level\n",
    "        self.split = split\n",
    "        self.num_events_per_set = num_events_per_set\n",
    "        self.num_sets_per_label = num_sets_per_label\n",
    "        self.q_squared_veto = q_squared_veto\n",
    "        self.balanced_classes = balanced_classes\n",
    "        self.std_scale = std_scale\n",
    "        self.shuffle = shuffle\n",
    "        self.path_dir_dsets_main = path_dir_dsets_main\n",
    "        self.path_dir_raw_signal = path_dir_raw_signal\n",
    "        self.label_subset = label_subset\n",
    "        self.is_sensitivity_dataset = is_sensitivity_dataset\n",
    "        self.frac_bkg = frac_bkg\n",
    "        self.path_dir_raw_bkg = path_dir_raw_bkg\n",
    "\n",
    "\n",
    "        \n",
    "        \n",
    "\n",
    "        "
   ]
  },
  {
   "cell_type": "code",
   "execution_count": 1,
   "id": "cdc60347",
   "metadata": {},
   "outputs": [
    {
     "ename": "TypeError",
     "evalue": "argument should be a str or an os.PathLike object where __fspath__ returns a str, not 'NoneType'",
     "output_type": "error",
     "traceback": [
      "\u001b[31m---------------------------------------------------------------------------\u001b[39m",
      "\u001b[31mTypeError\u001b[39m                                 Traceback (most recent call last)",
      "\u001b[36mCell\u001b[39m\u001b[36m \u001b[39m\u001b[32mIn[1]\u001b[39m\u001b[32m, line 3\u001b[39m\n\u001b[32m      1\u001b[39m \u001b[38;5;28;01mimport\u001b[39;00m\u001b[38;5;250m \u001b[39m\u001b[34;01mpathlib\u001b[39;00m\n\u001b[32m----> \u001b[39m\u001b[32m3\u001b[39m \u001b[43mpathlib\u001b[49m\u001b[43m.\u001b[49m\u001b[43mPath\u001b[49m\u001b[43m(\u001b[49m\u001b[38;5;28;43;01mNone\u001b[39;49;00m\u001b[43m)\u001b[49m\n",
      "\u001b[36mFile \u001b[39m\u001b[32mc:\\Users\\tetha\\miniforge3\\envs\\ml3\\Lib\\pathlib\\_local.py:503\u001b[39m, in \u001b[36mPath.__init__\u001b[39m\u001b[34m(self, *args, **kwargs)\u001b[39m\n\u001b[32m    500\u001b[39m     msg = (\u001b[33m\"\u001b[39m\u001b[33msupport for supplying keyword arguments to pathlib.PurePath \u001b[39m\u001b[33m\"\u001b[39m\n\u001b[32m    501\u001b[39m            \u001b[33m\"\u001b[39m\u001b[33mis deprecated and scheduled for removal in Python \u001b[39m\u001b[38;5;132;01m{remove}\u001b[39;00m\u001b[33m\"\u001b[39m)\n\u001b[32m    502\u001b[39m     warnings._deprecated(\u001b[33m\"\u001b[39m\u001b[33mpathlib.PurePath(**kwargs)\u001b[39m\u001b[33m\"\u001b[39m, msg, remove=(\u001b[32m3\u001b[39m, \u001b[32m14\u001b[39m))\n\u001b[32m--> \u001b[39m\u001b[32m503\u001b[39m \u001b[38;5;28;43msuper\u001b[39;49m\u001b[43m(\u001b[49m\u001b[43m)\u001b[49m\u001b[43m.\u001b[49m\u001b[34;43m__init__\u001b[39;49m\u001b[43m(\u001b[49m\u001b[43m*\u001b[49m\u001b[43margs\u001b[49m\u001b[43m)\u001b[49m\n",
      "\u001b[36mFile \u001b[39m\u001b[32mc:\\Users\\tetha\\miniforge3\\envs\\ml3\\Lib\\pathlib\\_local.py:132\u001b[39m, in \u001b[36mPurePath.__init__\u001b[39m\u001b[34m(self, *args)\u001b[39m\n\u001b[32m    130\u001b[39m             path = arg\n\u001b[32m    131\u001b[39m         \u001b[38;5;28;01mif\u001b[39;00m \u001b[38;5;129;01mnot\u001b[39;00m \u001b[38;5;28misinstance\u001b[39m(path, \u001b[38;5;28mstr\u001b[39m):\n\u001b[32m--> \u001b[39m\u001b[32m132\u001b[39m             \u001b[38;5;28;01mraise\u001b[39;00m \u001b[38;5;167;01mTypeError\u001b[39;00m(\n\u001b[32m    133\u001b[39m                 \u001b[33m\"\u001b[39m\u001b[33margument should be a str or an os.PathLike \u001b[39m\u001b[33m\"\u001b[39m\n\u001b[32m    134\u001b[39m                 \u001b[33m\"\u001b[39m\u001b[33mobject where __fspath__ returns a str, \u001b[39m\u001b[33m\"\u001b[39m\n\u001b[32m    135\u001b[39m                 \u001b[33mf\u001b[39m\u001b[33m\"\u001b[39m\u001b[33mnot \u001b[39m\u001b[38;5;132;01m{\u001b[39;00m\u001b[38;5;28mtype\u001b[39m(path).\u001b[34m__name__\u001b[39m\u001b[38;5;132;01m!r}\u001b[39;00m\u001b[33m\"\u001b[39m)\n\u001b[32m    136\u001b[39m         paths.append(path)\n\u001b[32m    137\u001b[39m \u001b[38;5;66;03m# Avoid calling super().__init__, as an optimisation\u001b[39;00m\n",
      "\u001b[31mTypeError\u001b[39m: argument should be a str or an os.PathLike object where __fspath__ returns a str, not 'NoneType'"
     ]
    }
   ],
   "source": [
    "import pathlib\n",
    "\n",
    "pathlib.Path(None)"
   ]
  },
  {
   "cell_type": "code",
   "execution_count": null,
   "id": "e41f1c7b",
   "metadata": {},
   "outputs": [],
   "source": []
  }
 ],
 "metadata": {
  "kernelspec": {
   "display_name": "ml3",
   "language": "python",
   "name": "python3"
  },
  "language_info": {
   "codemirror_mode": {
    "name": "ipython",
    "version": 3
   },
   "file_extension": ".py",
   "mimetype": "text/x-python",
   "name": "python",
   "nbconvert_exporter": "python",
   "pygments_lexer": "ipython3",
   "version": "3.13.5"
  }
 },
 "nbformat": 4,
 "nbformat_minor": 5
}

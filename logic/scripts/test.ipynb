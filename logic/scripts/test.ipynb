{
 "cells": [
  {
   "cell_type": "code",
   "execution_count": null,
   "id": "afa07484",
   "metadata": {},
   "outputs": [],
   "source": [
    "import pathlib\n",
    "\n",
    "\n",
    "class Config_Dataset_Unbinned_Sets:\n",
    "\n",
    "    def __init__(\n",
    "        self,\n",
    "        level,\n",
    "        split,\n",
    "        num_events_per_set,\n",
    "        num_sets_per_label,\n",
    "        q_squared_veto,\n",
    "        balanced_classes,\n",
    "        std_scale,\n",
    "        shuffle,\n",
    "        path_dir_dsets_main,\n",
    "        path_dir_raw_signal,\n",
    "        label_subset=None,\n",
    "        is_sensitivity_dataset=False,\n",
    "        frac_bkg=None,\n",
    "        path_dir_raw_bkg=None,\n",
    "    ):\n",
    "        \n",
    "        self.level = level\n",
    "        self.split = split\n",
    "        self.num_events_per_set = num_events_per_set\n",
    "        self.num_sets_per_label = num_sets_per_label\n",
    "        self.q_squared_veto = q_squared_veto\n",
    "        self.balanced_classes = balanced_classes\n",
    "        self.std_scale = std_scale\n",
    "        self.shuffle = shuffle\n",
    "        self.path_dir_dsets_main = path_dir_dsets_main\n",
    "        self.path_dir_raw_signal = path_dir_raw_signal\n",
    "        self.label_subset = label_subset\n",
    "        self.is_sensitivity_dataset = is_sensitivity_dataset\n",
    "        self.frac_bkg = frac_bkg\n",
    "        self.path_dir_raw_bkg = path_dir_raw_bkg\n",
    "\n",
    "\n",
    "        \n",
    "        \n",
    "\n",
    "        "
   ]
  },
  {
   "cell_type": "code",
   "execution_count": 26,
   "id": "cdc60347",
   "metadata": {},
   "outputs": [
    {
     "data": {
      "text/plain": [
       "pandas.core.series.Series"
      ]
     },
     "execution_count": 26,
     "metadata": {},
     "output_type": "execute_result"
    }
   ],
   "source": [
    "import pandas\n",
    "\n",
    "df = pandas.DataFrame({\"a\": [1,2], \"b\":[3,4]})\n",
    "\n",
    "df[[\"a\"]] = df[[\"a\"]] * df.mean()[[\"a\"]]\n",
    "\n",
    "type(df.mean()[[\"a\"]])"
   ]
  },
  {
   "cell_type": "code",
   "execution_count": 25,
   "id": "e41f1c7b",
   "metadata": {},
   "outputs": [
    {
     "data": {
      "text/plain": [
       "ValueError"
      ]
     },
     "execution_count": 25,
     "metadata": {},
     "output_type": "execute_result"
    }
   ],
   "source": [
    "ValueError"
   ]
  },
  {
   "cell_type": "code",
   "execution_count": null,
   "id": "e7f76a11",
   "metadata": {},
   "outputs": [],
   "source": []
  }
 ],
 "metadata": {
  "kernelspec": {
   "display_name": "ml3",
   "language": "python",
   "name": "python3"
  },
  "language_info": {
   "codemirror_mode": {
    "name": "ipython",
    "version": 3
   },
   "file_extension": ".py",
   "mimetype": "text/x-python",
   "name": "python",
   "nbconvert_exporter": "python",
   "pygments_lexer": "ipython3",
   "version": "3.13.5"
  }
 },
 "nbformat": 4,
 "nbformat_minor": 5
}
